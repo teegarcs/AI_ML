{
 "cells": [
  {
   "cell_type": "markdown",
   "id": "911b3b37-3b29-4833-94f2-bfe47af00c83",
   "metadata": {},
   "source": [
    "# Lesson 6: Essay Writer"
   ]
  },
  {
   "cell_type": "code",
   "execution_count": 3,
   "id": "b71dffe0",
   "metadata": {},
   "outputs": [
    {
     "name": "stdout",
     "output_type": "stream",
     "text": [
      "Requirement already satisfied: langchain-community in /opt/homebrew/lib/python3.11/site-packages (0.2.4)\n",
      "Requirement already satisfied: langgraph in /opt/homebrew/lib/python3.11/site-packages (0.0.66)\n",
      "Requirement already satisfied: langchain-openai in /opt/homebrew/lib/python3.11/site-packages (0.1.8)\n",
      "Requirement already satisfied: tavily-python in /opt/homebrew/lib/python3.11/site-packages (0.3.3)\n",
      "Requirement already satisfied: load-dotenv in /opt/homebrew/lib/python3.11/site-packages (0.1.0)\n",
      "Requirement already satisfied: PyYAML>=5.3 in /opt/homebrew/lib/python3.11/site-packages (from langchain-community) (6.0.1)\n",
      "Requirement already satisfied: SQLAlchemy<3,>=1.4 in /opt/homebrew/lib/python3.11/site-packages (from langchain-community) (2.0.30)\n",
      "Requirement already satisfied: aiohttp<4.0.0,>=3.8.3 in /opt/homebrew/lib/python3.11/site-packages (from langchain-community) (3.9.5)\n",
      "Requirement already satisfied: dataclasses-json<0.7,>=0.5.7 in /opt/homebrew/lib/python3.11/site-packages (from langchain-community) (0.6.7)\n",
      "Requirement already satisfied: langchain<0.3.0,>=0.2.0 in /opt/homebrew/lib/python3.11/site-packages (from langchain-community) (0.2.3)\n",
      "Requirement already satisfied: langchain-core<0.3.0,>=0.2.0 in /opt/homebrew/lib/python3.11/site-packages (from langchain-community) (0.2.5)\n",
      "Requirement already satisfied: langsmith<0.2.0,>=0.1.0 in /opt/homebrew/lib/python3.11/site-packages (from langchain-community) (0.1.77)\n",
      "Requirement already satisfied: numpy<2,>=1 in /opt/homebrew/lib/python3.11/site-packages (from langchain-community) (1.26.4)\n",
      "Requirement already satisfied: requests<3,>=2 in /opt/homebrew/lib/python3.11/site-packages (from langchain-community) (2.32.3)\n",
      "Requirement already satisfied: tenacity<9.0.0,>=8.1.0 in /opt/homebrew/lib/python3.11/site-packages (from langchain-community) (8.3.0)\n",
      "Requirement already satisfied: openai<2.0.0,>=1.26.0 in /opt/homebrew/lib/python3.11/site-packages (from langchain-openai) (1.34.0)\n",
      "Requirement already satisfied: tiktoken<1,>=0.7 in /opt/homebrew/lib/python3.11/site-packages (from langchain-openai) (0.7.0)\n",
      "Requirement already satisfied: python-dotenv in /opt/homebrew/lib/python3.11/site-packages (from load-dotenv) (1.0.1)\n",
      "Requirement already satisfied: aiosignal>=1.1.2 in /opt/homebrew/lib/python3.11/site-packages (from aiohttp<4.0.0,>=3.8.3->langchain-community) (1.3.1)\n",
      "Requirement already satisfied: attrs>=17.3.0 in /opt/homebrew/lib/python3.11/site-packages (from aiohttp<4.0.0,>=3.8.3->langchain-community) (23.2.0)\n",
      "Requirement already satisfied: frozenlist>=1.1.1 in /opt/homebrew/lib/python3.11/site-packages (from aiohttp<4.0.0,>=3.8.3->langchain-community) (1.4.1)\n",
      "Requirement already satisfied: multidict<7.0,>=4.5 in /opt/homebrew/lib/python3.11/site-packages (from aiohttp<4.0.0,>=3.8.3->langchain-community) (6.0.5)\n",
      "Requirement already satisfied: yarl<2.0,>=1.0 in /opt/homebrew/lib/python3.11/site-packages (from aiohttp<4.0.0,>=3.8.3->langchain-community) (1.9.4)\n",
      "Requirement already satisfied: marshmallow<4.0.0,>=3.18.0 in /opt/homebrew/lib/python3.11/site-packages (from dataclasses-json<0.7,>=0.5.7->langchain-community) (3.21.3)\n",
      "Requirement already satisfied: typing-inspect<1,>=0.4.0 in /opt/homebrew/lib/python3.11/site-packages (from dataclasses-json<0.7,>=0.5.7->langchain-community) (0.9.0)\n",
      "Requirement already satisfied: langchain-text-splitters<0.3.0,>=0.2.0 in /opt/homebrew/lib/python3.11/site-packages (from langchain<0.3.0,>=0.2.0->langchain-community) (0.2.1)\n",
      "Requirement already satisfied: pydantic<3,>=1 in /opt/homebrew/lib/python3.11/site-packages (from langchain<0.3.0,>=0.2.0->langchain-community) (2.7.4)\n",
      "Requirement already satisfied: jsonpatch<2.0,>=1.33 in /opt/homebrew/lib/python3.11/site-packages (from langchain-core<0.3.0,>=0.2.0->langchain-community) (1.33)\n",
      "Requirement already satisfied: packaging<24.0,>=23.2 in /opt/homebrew/lib/python3.11/site-packages (from langchain-core<0.3.0,>=0.2.0->langchain-community) (23.2)\n",
      "Requirement already satisfied: orjson<4.0.0,>=3.9.14 in /opt/homebrew/lib/python3.11/site-packages (from langsmith<0.2.0,>=0.1.0->langchain-community) (3.10.4)\n",
      "Requirement already satisfied: anyio<5,>=3.5.0 in /opt/homebrew/lib/python3.11/site-packages (from openai<2.0.0,>=1.26.0->langchain-openai) (4.4.0)\n",
      "Requirement already satisfied: distro<2,>=1.7.0 in /opt/homebrew/lib/python3.11/site-packages (from openai<2.0.0,>=1.26.0->langchain-openai) (1.9.0)\n",
      "Requirement already satisfied: httpx<1,>=0.23.0 in /opt/homebrew/lib/python3.11/site-packages (from openai<2.0.0,>=1.26.0->langchain-openai) (0.27.0)\n",
      "Requirement already satisfied: sniffio in /opt/homebrew/lib/python3.11/site-packages (from openai<2.0.0,>=1.26.0->langchain-openai) (1.3.1)\n",
      "Requirement already satisfied: tqdm>4 in /opt/homebrew/lib/python3.11/site-packages (from openai<2.0.0,>=1.26.0->langchain-openai) (4.66.4)\n",
      "Requirement already satisfied: typing-extensions<5,>=4.7 in /Users/cteegarden/Library/Python/3.11/lib/python/site-packages (from openai<2.0.0,>=1.26.0->langchain-openai) (4.12.2)\n",
      "Requirement already satisfied: charset-normalizer<4,>=2 in /opt/homebrew/lib/python3.11/site-packages (from requests<3,>=2->langchain-community) (3.3.2)\n",
      "Requirement already satisfied: idna<4,>=2.5 in /opt/homebrew/lib/python3.11/site-packages (from requests<3,>=2->langchain-community) (3.7)\n",
      "Requirement already satisfied: urllib3<3,>=1.21.1 in /opt/homebrew/lib/python3.11/site-packages (from requests<3,>=2->langchain-community) (2.2.1)\n",
      "Requirement already satisfied: certifi>=2017.4.17 in /opt/homebrew/lib/python3.11/site-packages (from requests<3,>=2->langchain-community) (2024.6.2)\n",
      "Requirement already satisfied: regex>=2022.1.18 in /opt/homebrew/lib/python3.11/site-packages (from tiktoken<1,>=0.7->langchain-openai) (2024.5.15)\n",
      "Requirement already satisfied: httpcore==1.* in /opt/homebrew/lib/python3.11/site-packages (from httpx<1,>=0.23.0->openai<2.0.0,>=1.26.0->langchain-openai) (1.0.5)\n",
      "Requirement already satisfied: h11<0.15,>=0.13 in /opt/homebrew/lib/python3.11/site-packages (from httpcore==1.*->httpx<1,>=0.23.0->openai<2.0.0,>=1.26.0->langchain-openai) (0.14.0)\n",
      "Requirement already satisfied: jsonpointer>=1.9 in /opt/homebrew/lib/python3.11/site-packages (from jsonpatch<2.0,>=1.33->langchain-core<0.3.0,>=0.2.0->langchain-community) (3.0.0)\n",
      "Requirement already satisfied: annotated-types>=0.4.0 in /opt/homebrew/lib/python3.11/site-packages (from pydantic<3,>=1->langchain<0.3.0,>=0.2.0->langchain-community) (0.7.0)\n",
      "Requirement already satisfied: pydantic-core==2.18.4 in /opt/homebrew/lib/python3.11/site-packages (from pydantic<3,>=1->langchain<0.3.0,>=0.2.0->langchain-community) (2.18.4)\n",
      "Requirement already satisfied: mypy-extensions>=0.3.0 in /opt/homebrew/lib/python3.11/site-packages (from typing-inspect<1,>=0.4.0->dataclasses-json<0.7,>=0.5.7->langchain-community) (1.0.0)\n",
      "Note: you may need to restart the kernel to use updated packages.\n"
     ]
    }
   ],
   "source": [
    "%pip install -U langchain-community langgraph langchain-openai tavily-python load-dotenv"
   ]
  },
  {
   "cell_type": "code",
   "execution_count": 4,
   "id": "f5762271-8736-4e94-9444-8c92bd0e8074",
   "metadata": {
    "height": 64
   },
   "outputs": [],
   "source": [
    "from dotenv import load_dotenv\n",
    "\n",
    "_ = load_dotenv()"
   ]
  },
  {
   "cell_type": "code",
   "execution_count": 5,
   "id": "d0168aee-bce9-4d60-b827-f86a88187e31",
   "metadata": {
    "height": 132
   },
   "outputs": [],
   "source": [
    "from langgraph.graph import StateGraph, END\n",
    "from typing import TypedDict, Annotated, List\n",
    "import operator\n",
    "from langgraph.checkpoint.sqlite import SqliteSaver\n",
    "from langchain_core.messages import AnyMessage, SystemMessage, HumanMessage, AIMessage, ChatMessage\n",
    "\n",
    "memory = SqliteSaver.from_conn_string(\":memory:\")"
   ]
  },
  {
   "cell_type": "code",
   "execution_count": 6,
   "id": "2589c5b6-6cc2-4594-9a17-dccdcf676054",
   "metadata": {
    "height": 149
   },
   "outputs": [],
   "source": [
    "class AgentState(TypedDict):\n",
    "    task: str\n",
    "    plan: str\n",
    "    draft: str\n",
    "    critique: str\n",
    "    content: List[str]\n",
    "    revision_number: int\n",
    "    max_revisions: int"
   ]
  },
  {
   "cell_type": "code",
   "execution_count": 7,
   "id": "a2ba84ec-c172-4de7-ac55-e3158a531b23",
   "metadata": {
    "height": 47
   },
   "outputs": [],
   "source": [
    "from langchain_openai import ChatOpenAI\n",
    "model = ChatOpenAI(model=\"gpt-4o\", temperature=0, openai_api_key = \"sk-proj-zIHJSpOWDHXvTp18X3xmT3BlbkFJYA3qywn9JquqfOsNh03y\")"
   ]
  },
  {
   "cell_type": "code",
   "execution_count": 8,
   "id": "876d5092-b8ef-4e38-b4d7-0e80c609bf7a",
   "metadata": {
    "height": 64
   },
   "outputs": [],
   "source": [
    "PLAN_PROMPT = \"\"\"You are an expert writer tasked with writing a high level outline of an essay. \\\n",
    "Write such an outline for the user provided topic. Give an outline of the essay along with any relevant notes \\\n",
    "or instructions for the sections.\"\"\""
   ]
  },
  {
   "cell_type": "code",
   "execution_count": 9,
   "id": "10084a02-2928-4945-9f7c-ad3f5b33caf7",
   "metadata": {
    "height": 149
   },
   "outputs": [],
   "source": [
    "WRITER_PROMPT = \"\"\"You are an essay assistant tasked with writing excellent 5-paragraph essays.\\\n",
    "Generate the best essay possible for the user's request and the initial outline. \\\n",
    "If the user provides critique, respond with a revised version of your previous attempts. \\\n",
    "Utilize all the information below as needed: \n",
    "\n",
    "------\n",
    "\n",
    "{content}\"\"\""
   ]
  },
  {
   "cell_type": "code",
   "execution_count": 10,
   "id": "714d1205-f8fc-4912-b148-2a45da99219c",
   "metadata": {
    "height": 64
   },
   "outputs": [],
   "source": [
    "REFLECTION_PROMPT = \"\"\"You are a teacher grading an essay submission. \\\n",
    "Generate critique and recommendations for the user's submission. \\\n",
    "Provide detailed recommendations, including requests for length, depth, style, etc.\"\"\""
   ]
  },
  {
   "cell_type": "code",
   "execution_count": 11,
   "id": "83588e70-254f-4f83-a510-c8ae81e729b0",
   "metadata": {
    "height": 81
   },
   "outputs": [],
   "source": [
    "RESEARCH_PLAN_PROMPT = \"\"\"You are a researcher charged with providing information that can \\\n",
    "be used when writing the following essay. Generate a list of search queries that will gather \\\n",
    "any relevant information. Only generate 3 queries max.\"\"\"\n"
   ]
  },
  {
   "cell_type": "code",
   "execution_count": 12,
   "id": "6cb3ef4c-58b3-401b-b104-0d51e553d982",
   "metadata": {
    "height": 81
   },
   "outputs": [],
   "source": [
    "RESEARCH_CRITIQUE_PROMPT = \"\"\"You are a researcher charged with providing information that can \\\n",
    "be used when making any requested revisions (as outlined below). \\\n",
    "Generate a list of search queries that will gather any relevant information. Only generate 3 queries max.\"\"\"\n"
   ]
  },
  {
   "cell_type": "code",
   "execution_count": 13,
   "id": "dc3293b7-a50c-43c8-a022-8975e1e444b8",
   "metadata": {
    "height": 81
   },
   "outputs": [],
   "source": [
    "from langchain_core.pydantic_v1 import BaseModel\n",
    "\n",
    "class Queries(BaseModel):\n",
    "    queries: List[str]"
   ]
  },
  {
   "cell_type": "code",
   "execution_count": 14,
   "id": "0722c3d4-4cbf-43bf-81b0-50f634c4ce61",
   "metadata": {
    "height": 64
   },
   "outputs": [],
   "source": [
    "from tavily import TavilyClient\n",
    "import os\n",
    "tavily = TavilyClient(api_key=\"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\")"
   ]
  },
  {
   "cell_type": "code",
   "execution_count": 15,
   "id": "6b2f82fe-3ec4-4917-be51-9fb10d1317fa",
   "metadata": {
    "height": 132
   },
   "outputs": [],
   "source": [
    "def plan_node(state: AgentState):\n",
    "    messages = [\n",
    "        SystemMessage(content=PLAN_PROMPT), \n",
    "        HumanMessage(content=state['task'])\n",
    "    ]\n",
    "    response = model.invoke(messages)\n",
    "    return {\"plan\": response.content}"
   ]
  },
  {
   "cell_type": "code",
   "execution_count": 16,
   "id": "ee0fe1c7-77e2-499c-a2f9-1f739bb6ddf0",
   "metadata": {
    "height": 200
   },
   "outputs": [],
   "source": [
    "def research_plan_node(state: AgentState):\n",
    "    queries = model.with_structured_output(Queries).invoke([\n",
    "        SystemMessage(content=RESEARCH_PLAN_PROMPT),\n",
    "        HumanMessage(content=state['task'])\n",
    "    ])\n",
    "    content = state['content'] or []\n",
    "    for q in queries.queries:\n",
    "        response = tavily.search(query=q, max_results=2)\n",
    "        for r in response['results']:\n",
    "            content.append(r['content'])\n",
    "    return {\"content\": content}"
   ]
  },
  {
   "cell_type": "code",
   "execution_count": 17,
   "id": "98f303b1-a4d0-408c-8cc0-515ff980717f",
   "metadata": {
    "height": 285
   },
   "outputs": [],
   "source": [
    "def generation_node(state: AgentState):\n",
    "    content = \"\\n\\n\".join(state['content'] or [])\n",
    "    user_message = HumanMessage(\n",
    "        content=f\"{state['task']}\\n\\nHere is my plan:\\n\\n{state['plan']}\")\n",
    "    messages = [\n",
    "        SystemMessage(\n",
    "            content=WRITER_PROMPT.format(content=content)\n",
    "        ),\n",
    "        user_message\n",
    "        ]\n",
    "    response = model.invoke(messages)\n",
    "    return {\n",
    "        \"draft\": response.content, \n",
    "        \"revision_number\": state.get(\"revision_number\", 1) + 1\n",
    "    }\n"
   ]
  },
  {
   "cell_type": "code",
   "execution_count": 18,
   "id": "bf4dcb93-6298-4cfd-b3ce-61dfac7fb35f",
   "metadata": {
    "height": 132
   },
   "outputs": [],
   "source": [
    "def reflection_node(state: AgentState):\n",
    "    messages = [\n",
    "        SystemMessage(content=REFLECTION_PROMPT), \n",
    "        HumanMessage(content=state['draft'])\n",
    "    ]\n",
    "    response = model.invoke(messages)\n",
    "    return {\"critique\": response.content}"
   ]
  },
  {
   "cell_type": "code",
   "execution_count": 19,
   "id": "932883a4-c722-42bb-aec0-b4f41c5c81a4",
   "metadata": {
    "height": 200
   },
   "outputs": [],
   "source": [
    "def research_critique_node(state: AgentState):\n",
    "    queries = model.with_structured_output(Queries).invoke([\n",
    "        SystemMessage(content=RESEARCH_CRITIQUE_PROMPT),\n",
    "        HumanMessage(content=state['critique'])\n",
    "    ])\n",
    "    content = state['content'] or []\n",
    "    for q in queries.queries:\n",
    "        response = tavily.search(query=q, max_results=2)\n",
    "        for r in response['results']:\n",
    "            content.append(r['content'])\n",
    "    return {\"content\": content}"
   ]
  },
  {
   "cell_type": "code",
   "execution_count": 20,
   "id": "ff362f49-dcf1-4ea1-a86c-e516e9ab897d",
   "metadata": {
    "height": 81
   },
   "outputs": [],
   "source": [
    "def should_continue(state):\n",
    "    if state[\"revision_number\"] > state[\"max_revisions\"]:\n",
    "        return END\n",
    "    return \"reflect\""
   ]
  },
  {
   "cell_type": "code",
   "execution_count": 21,
   "id": "a7e15a20-83d7-434c-8551-bce8dcc32be0",
   "metadata": {
    "height": 30
   },
   "outputs": [],
   "source": [
    "builder = StateGraph(AgentState)"
   ]
  },
  {
   "cell_type": "code",
   "execution_count": 22,
   "id": "54ab2c74-f32e-490c-a85d-932d11444210",
   "metadata": {
    "height": 98
   },
   "outputs": [],
   "source": [
    "builder.add_node(\"planner\", plan_node)\n",
    "builder.add_node(\"generate\", generation_node)\n",
    "builder.add_node(\"reflect\", reflection_node)\n",
    "builder.add_node(\"research_plan\", research_plan_node)\n",
    "builder.add_node(\"research_critique\", research_critique_node)"
   ]
  },
  {
   "cell_type": "code",
   "execution_count": 23,
   "id": "a833d3ce-bd31-4319-811d-decff226b970",
   "metadata": {
    "height": 30
   },
   "outputs": [],
   "source": [
    "builder.set_entry_point(\"planner\")"
   ]
  },
  {
   "cell_type": "code",
   "execution_count": 24,
   "id": "76e93cce-6eab-4c7c-ac64-e9993fdb30d6",
   "metadata": {
    "height": 115
   },
   "outputs": [],
   "source": [
    "builder.add_conditional_edges(\n",
    "    \"generate\", \n",
    "    should_continue, \n",
    "    {END: END, \"reflect\": \"reflect\"}\n",
    ")\n"
   ]
  },
  {
   "cell_type": "code",
   "execution_count": 25,
   "id": "fd2d0990-a932-423f-9ff3-5cada58c5f32",
   "metadata": {
    "height": 98
   },
   "outputs": [],
   "source": [
    "builder.add_edge(\"planner\", \"research_plan\")\n",
    "builder.add_edge(\"research_plan\", \"generate\")\n",
    "\n",
    "builder.add_edge(\"reflect\", \"research_critique\")\n",
    "builder.add_edge(\"research_critique\", \"generate\")"
   ]
  },
  {
   "cell_type": "code",
   "execution_count": 26,
   "id": "27cde654-64e2-48bc-80a9-0ed668ccb7dc",
   "metadata": {
    "height": 30
   },
   "outputs": [],
   "source": [
    "graph = builder.compile(checkpointer=memory)"
   ]
  },
  {
   "cell_type": "code",
   "execution_count": 27,
   "id": "2f0250f4",
   "metadata": {},
   "outputs": [
    {
     "name": "stdout",
     "output_type": "stream",
     "text": [
      "Collecting pygraphviz\n",
      "  Using cached pygraphviz-1.13-cp311-cp311-macosx_10_9_universal2.whl\n",
      "Installing collected packages: pygraphviz\n",
      "Successfully installed pygraphviz-1.13\n",
      "Note: you may need to restart the kernel to use updated packages.\n"
     ]
    }
   ],
   "source": [
    "%pip install pygraphviz"
   ]
  },
  {
   "cell_type": "code",
   "execution_count": 28,
   "id": "4871f644-b131-4065-b7ce-b82c20a41f11",
   "metadata": {
    "height": 64
   },
   "outputs": [
    {
     "data": {
      "image/png": "[encoded data removed]",
      "text/plain": [
       "<IPython.core.display.Image object>"
      ]
     },
     "execution_count": 28,
     "metadata": {},
     "output_type": "execute_result"
    }
   ],
   "source": [
    "from IPython.display import Image\n",
    "\n",
    "Image(graph.get_graph().draw_png())"
   ]
  },
  {
   "cell_type": "code",
   "execution_count": 29,
   "id": "98f3be1d-cc4c-41fa-9863-3e386e88e305",
   "metadata": {
    "height": 132
   },
   "outputs": [
    {
     "name": "stdout",
     "output_type": "stream",
     "text": [
      "{'planner': {'plan': '### Outline for Essay: \"The Difference Between LangChain and LangSmith\"\\n\\n#### I. Introduction\\n   A. Brief introduction to the importance of language models and tools in modern technology.\\n   B. Introduction to LangChain and LangSmith as prominent tools in the field.\\n   C. Thesis statement: While LangChain and LangSmith both serve to enhance language model capabilities, they differ significantly in their design, functionality, and use cases.\\n\\n#### II. Overview of LangChain\\n   A. Definition and Purpose\\n      1. Explanation of what LangChain is.\\n      2. Primary objectives and goals of LangChain.\\n   B. Key Features\\n      1. Core functionalities and features.\\n      2. Unique selling points.\\n   C. Use Cases\\n      1. Typical scenarios where LangChain is applied.\\n      2. Examples of industries or projects utilizing LangChain.\\n\\n#### III. Overview of LangSmith\\n   A. Definition and Purpose\\n      1. Explanation of what LangSmith is.\\n      2. Primary objectives and goals of LangSmith.\\n   B. Key Features\\n      1. Core functionalities and features.\\n      2. Unique selling points.\\n   C. Use Cases\\n      1. Typical scenarios where LangSmith is applied.\\n      2. Examples of industries or projects utilizing LangSmith.\\n\\n#### IV. Comparative Analysis\\n   A. Design and Architecture\\n      1. Differences in the underlying design principles.\\n      2. Architectural distinctions.\\n   B. Functionality\\n      1. Comparison of core functionalities.\\n      2. Specific features that set them apart.\\n   C. Performance and Efficiency\\n      1. Performance metrics and benchmarks.\\n      2. Efficiency in various applications.\\n   D. User Experience\\n      1. Ease of use and learning curve.\\n      2. Community and support.\\n\\n#### V. Advantages and Disadvantages\\n   A. LangChain\\n      1. Strengths and benefits.\\n      2. Limitations and challenges.\\n   B. LangSmith\\n      1. Strengths and benefits.\\n      2. Limitations and challenges.\\n\\n#### VI. Case Studies\\n   A. Real-world examples of LangChain in action.\\n   B. Real-world examples of LangSmith in action.\\n   C. Comparative outcomes and insights from these case studies.\\n\\n#### VII. Future Prospects\\n   A. Potential developments for LangChain.\\n      1. Upcoming features and improvements.\\n      2. Future applications and trends.\\n   B. Potential developments for LangSmith.\\n      1. Upcoming features and improvements.\\n      2. Future applications and trends.\\n\\n#### VIII. Conclusion\\n   A. Summary of key points discussed.\\n   B. Restate the thesis in light of the analysis.\\n   C. Final thoughts on the significance of understanding the differences between LangChain and LangSmith for users and developers.\\n\\n### Notes and Instructions:\\n1. **Research Thoroughly**: Ensure that you gather up-to-date and accurate information about both LangChain and LangSmith. This includes their latest features, updates, and real-world applications.\\n2. **Use Technical Language Appropriately**: Given the technical nature of the topic, use precise terminology but also provide explanations for complex concepts to make the essay accessible to a broader audience.\\n3. **Incorporate Visuals**: Where possible, include diagrams or tables to illustrate differences in design, architecture, or performance metrics.\\n4. **Provide Real-World Examples**: Use case studies or examples to ground the discussion in practical applications, making the comparison more tangible.\\n5. **Maintain Objectivity**: Present both tools in a balanced manner, highlighting both strengths and weaknesses without bias.\\n6. **Future Prospects**: Speculate responsibly about future developments, basing predictions on current trends and expert opinions.\\n\\nBy following this outline and notes, the essay will provide a comprehensive and insightful comparison of LangChain and LangSmith, aiding readers in understanding their distinct roles and applications in the field of language models.'}}\n",
      "{'research_plan': {'content': ['Langchain vs Langsmith: Unpacking the AI Language Model Showdown\\nOverview of Langchain and Langsmith\\nLangchain is a versatile open-source framework that enables you to build applications utilizing large language models (LLM) like GPT-3. Check out our free WhatsApp channel to stay educated on LLM developments:\\nJoin the Finxter Academy and unlock access to premium courses 👑 to certify your skills in exponential technologies and programming.\\n Frequently Asked Questions\\nWhether you’re trying to figure out which tool fits your needs or you’re just getting started with language model automation, these FAQs will help shed light on the common curiosities about Langchain and LangSmith.\\n The best way to find out is to reach out to them through the LangSmith Walkthrough page or to inquire about access directly through their support channels.\\n Here’s how you might start a simple Langchain project in Python:\\nTo integrate LangSmith, you could write something like this:\\nYou’re not limited to Python, though.', \"Unveiling Their Unique Roles in Language Models\\nRead more\\nLangChain vs. OpenAI: Which Unlocks Your App's True Potential?\\nRead more\\nWhich AI Reigns Supreme: LangChain vs. Hugging Face?\\nRead more\\nLangChain vs Haystack: Which Triumphs in LLM Orchestration?\\nRead more\\nLangChain vs. AutoGen: Which Framework Powers AI More Effectively?\\nRead more\\nSign in\\nDon't have an account yet?\\nSign up here\\nSign up\\nAlready have an account?\\nSign in here\\nForgot password?\\nRemember your password?\\nSign in here\\nUnlock Your Career Potential with Our Online Courses: Explore Reviews, Roadmaps, Tutorials, and Learning Apps to Land Your Dream Job. Why Choose LangSmith for Production?\\nLangSmith justifies its cost through its focus on five core pillars designed to enhance the development and management of LLM-powered applications:\\nA significant advantage of using LangSmith is its user-friendly interface that lowers the entry barrier for individuals without extensive software development experience. LangSmith: Your Dashboard to LangChain's Engine\\nJust as a car dashboard provides crucial information about the performance of a vehicle, LangSmith offers a comprehensive view into the workings of your language model applications powered by LangChain. In essence, while the cost of using LangSmith may be higher than LangChain, the investment is compensated by a significant reduction in long-term production risks and the assurance of delivering a polished, professional product.\\n Comments\\nDelete comment\\nAre you sure you want to delete the comment?\\nRead more\\nChoosing AI Partners: LangChain's Innovation or Bedrock's Simplicity?\\nRead more\\nLangChain vs RAG:\", \"The Elastic AI Assistant for security supports the security analyst workflow with alert summarization, workflow suggestions, query generation and conversion, and more.\\n Built with LangChain\\nTeams building with LangChain are driving operational efficiency, increasing discovery & personalization, and delivering premium products that generate revenue.\\n Instabase AI Hub powers intelligent solutions that understand any type of document, execute custom business logic, facilitate human review at every step, and integrate with industry-specific systems to support business decisions.\\n Morningstar's Intelligence Engine Platform reads and recalls hundreds of thousands of research reports Morningstar produces and lets their customers ask questions to get unique market insights.\\n Realm-X automates critical real estate workflows and eliminates repetitive tasks, freeing up property managers to focus on more meaningful work like building resident connections and driving business performance.\\n\", \"Use cases. This section contains walkthroughs and techniques for common end-to-end use tasks. If you're looking to build something specific or are more of a hands-on learner, try one out! While they reference building blocks that are explained in greater detail in other sections, we absolutely encourage folks to get started by going through ...\", \"Use Case: Optimization. We've also added an example use case showing how to combine all these features into a relatively advanced use case. The use case we put together shows how to create an app that can learn over time how to tweet in a style that you like. It does this using a few technologies: Log all traces to LangSmith\", \"Use Cases. The following guides are provided to serve as example use cases for how you can use LangSmith's production logging and automations. These are not meant to be exhaustive, nor are they optimized for your use case. They are meant as a reference to help you get started.\"]}}\n",
      "{'generate': {'draft': \"### The Difference Between LangChain and LangSmith\\n\\n#### I. Introduction\\nIn the rapidly evolving landscape of artificial intelligence, language models have become indispensable tools for a myriad of applications, from natural language processing to automated content generation. Among the prominent frameworks facilitating the use of large language models (LLMs) are LangChain and LangSmith. While both tools aim to enhance the capabilities of language models, they differ significantly in their design, functionality, and use cases. This essay will explore these differences, providing a comprehensive understanding of each tool's unique contributions to the field.\\n\\n#### II. Overview of LangChain\\nLangChain is an open-source framework designed to simplify the development of applications that leverage large language models like GPT-3. Its primary objective is to provide developers with a versatile and robust platform for building LLM-powered applications.\\n\\n**Key Features:**\\n1. **Core Functionalities:** LangChain offers a range of functionalities, including seamless integration with various LLMs, support for multiple programming languages, and tools for fine-tuning and optimizing models.\\n2. **Unique Selling Points:** One of LangChain's standout features is its flexibility, allowing developers to customize and extend the framework to suit specific needs. Additionally, its open-source nature fosters a collaborative community, contributing to continuous improvement and innovation.\\n\\n**Use Cases:**\\nLangChain is widely used in industries such as finance, healthcare, and real estate. For instance, Morningstar's Intelligence Engine Platform utilizes LangChain to process and analyze vast amounts of financial research reports, providing users with unique market insights. Similarly, Realm-X employs LangChain to automate real estate workflows, enhancing operational efficiency and freeing up property managers to focus on more strategic tasks.\\n\\n#### III. Overview of LangSmith\\nLangSmith, on the other hand, is a commercial tool designed to enhance the development and management of LLM-powered applications. It focuses on providing a user-friendly interface and comprehensive production logging and automation features.\\n\\n**Key Features:**\\n1. **Core Functionalities:** LangSmith offers a dashboard that provides a detailed view of the performance and operations of language model applications. It also includes tools for production logging, workflow automation, and integration with industry-specific systems.\\n2. **Unique Selling Points:** LangSmith's primary advantage lies in its ease of use, making it accessible to individuals without extensive software development experience. Its focus on production readiness and risk mitigation ensures that applications are reliable and professional.\\n\\n**Use Cases:**\\nLangSmith is particularly beneficial in scenarios where production reliability and user experience are paramount. For example, it supports security analysts by providing alert summarization, workflow suggestions, and query generation. Additionally, it powers intelligent solutions in the Instabase AI Hub, facilitating document understanding and business logic execution.\\n\\n#### IV. Comparative Analysis\\n**Design and Architecture:**\\nLangChain is built on open-source principles, emphasizing flexibility and community-driven development. In contrast, LangSmith is designed with a commercial focus, prioritizing user-friendliness and production reliability.\\n\\n**Functionality:**\\nWhile both tools offer robust functionalities, LangChain excels in customization and extensibility, making it ideal for developers who need to tailor solutions to specific requirements. LangSmith, however, shines in its comprehensive production features and ease of use, catering to users who prioritize a polished, ready-to-deploy solution.\\n\\n**Performance and Efficiency:**\\nPerformance metrics and benchmarks vary depending on the specific use case and implementation. Generally, LangChain's open-source nature allows for extensive optimization, while LangSmith's production-focused design ensures consistent and reliable performance.\\n\\n**User Experience:**\\nLangChain has a steeper learning curve due to its flexibility and customization options. Conversely, LangSmith offers a more intuitive user experience, with a lower entry barrier for non-developers and comprehensive support channels.\\n\\n#### V. Advantages and Disadvantages\\n**LangChain:**\\n- **Strengths:** Flexibility, customization, strong community support.\\n- **Limitations:** Steeper learning curve, requires more technical expertise.\\n\\n**LangSmith:**\\n- **Strengths:** User-friendly interface, production readiness, comprehensive support.\\n- **Limitations:** Higher cost, less flexibility compared to open-source alternatives.\\n\\n#### VI. Case Studies\\n**LangChain in Action:**\\nMorningstar's Intelligence Engine Platform and Realm-X are prime examples of LangChain's capabilities in processing large datasets and automating workflows.\\n\\n**LangSmith in Action:**\\nThe Instabase AI Hub and security analyst support tools demonstrate LangSmith's strengths in production logging, automation, and user experience.\\n\\n#### VII. Future Prospects\\n**LangChain:**\\nFuture developments may include enhanced support for emerging LLMs, improved optimization tools, and expanded community-driven features.\\n\\n**LangSmith:**\\nPotential advancements could involve more sophisticated automation capabilities, broader industry-specific integrations, and further enhancements to user experience and production reliability.\\n\\n#### VIII. Conclusion\\nIn summary, while LangChain and LangSmith both serve to enhance language model capabilities, they cater to different needs and user bases. LangChain offers unparalleled flexibility and customization, making it ideal for developers seeking tailored solutions. LangSmith, with its user-friendly interface and production-focused features, is perfect for users prioritizing ease of use and reliability. Understanding these differences is crucial for users and developers to choose the right tool for their specific requirements, ultimately driving innovation and efficiency in the field of language models.\", 'revision_number': 2}}\n",
      "{'reflect': {'critique': \"### Critique and Recommendations\\n\\n#### Overall Impression\\nYour essay provides a clear and structured comparison between LangChain and LangSmith, highlighting their key features, use cases, and differences. The organization into sections such as Introduction, Overview, Comparative Analysis, and Conclusion is effective and helps in maintaining a logical flow. However, there are areas where the essay could be improved in terms of depth, clarity, and engagement.\\n\\n#### Detailed Recommendations\\n\\n1. **Introduction:**\\n   - **Depth:** The introduction sets the stage well but could benefit from a more detailed context about the importance of LLMs in modern applications. Consider adding a few sentences about the broader impact of LLMs on various industries and why tools like LangChain and LangSmith are crucial.\\n   - **Engagement:** Start with a compelling hook or a real-world example to draw readers in. For instance, mention a groundbreaking application of LLMs that has transformed a particular industry.\\n\\n2. **Overview of LangChain and LangSmith:**\\n   - **Clarity:** While the overviews are informative, they could be more concise. Focus on the most critical features and use cases to avoid overwhelming the reader with too much information.\\n   - **Examples:** Provide more specific examples or case studies to illustrate the points. For instance, delve deeper into how Morningstar's Intelligence Engine Platform uses LangChain, including specific benefits and outcomes.\\n\\n3. **Comparative Analysis:**\\n   - **Depth:** This section is crucial but feels somewhat superficial. Expand on the technical differences in design and architecture. Discuss specific scenarios where one tool might be preferred over the other.\\n   - **Metrics:** Include performance metrics or benchmarks if available. This would provide a more quantitative comparison and help readers understand the practical implications of choosing one tool over the other.\\n\\n4. **Advantages and Disadvantages:**\\n   - **Balance:** Ensure that both tools are evaluated with equal depth. Currently, LangChain's strengths and limitations are well-covered, but LangSmith's could use more detail.\\n   - **Nuance:** Discuss any potential trade-offs in more detail. For example, while LangSmith is user-friendly, what specific limitations might a developer face compared to using LangChain?\\n\\n5. **Case Studies:**\\n   - **Detail:** The case studies section is a bit brief. Provide more detailed narratives about how each tool was implemented, the challenges faced, and the outcomes achieved. This will make the essay more engaging and informative.\\n   - **Diversity:** Include a variety of case studies from different industries to showcase the versatility of each tool.\\n\\n6. **Future Prospects:**\\n   - **Speculation:** Offer more speculative insights into the future developments of both tools. What emerging trends in AI and LLMs might influence their evolution? How might user needs change, and how could these tools adapt?\\n   - **Innovation:** Discuss potential innovative features that could be added to each tool to address current limitations or emerging needs.\\n\\n7. **Conclusion:**\\n   - **Summary:** The conclusion effectively summarizes the key points but could be more impactful. Reiterate the most compelling reasons why a user might choose one tool over the other.\\n   - **Call to Action:** End with a call to action or a thought-provoking statement about the future of LLMs and their potential to transform industries.\\n\\n8. **Style and Tone:**\\n   - **Consistency:** Maintain a consistent tone throughout the essay. Some sections are more formal than others. Aim for a balanced, professional tone that is accessible to both technical and non-technical readers.\\n   - **Engagement:** Use varied sentence structures and active voice to make the essay more engaging. Avoid overly complex sentences that might confuse readers.\\n\\n9. **Length:**\\n   - **Conciseness:** While the essay is comprehensive, some sections could be more concise. Aim to trim redundant information and focus on the most impactful points.\\n   - **Expansion:** Conversely, expand sections that lack depth, such as the comparative analysis and case studies, to provide a more thorough understanding.\\n\\nBy addressing these recommendations, your essay will not only be more informative and engaging but also provide a clearer, more nuanced comparison of LangChain and LangSmith. This will help readers make more informed decisions based on their specific needs and contexts.\"}}\n",
      "{'research_critique': {'content': ['Langchain vs Langsmith: Unpacking the AI Language Model Showdown\\nOverview of Langchain and Langsmith\\nLangchain is a versatile open-source framework that enables you to build applications utilizing large language models (LLM) like GPT-3. Check out our free WhatsApp channel to stay educated on LLM developments:\\nJoin the Finxter Academy and unlock access to premium courses 👑 to certify your skills in exponential technologies and programming.\\n Frequently Asked Questions\\nWhether you’re trying to figure out which tool fits your needs or you’re just getting started with language model automation, these FAQs will help shed light on the common curiosities about Langchain and LangSmith.\\n The best way to find out is to reach out to them through the LangSmith Walkthrough page or to inquire about access directly through their support channels.\\n Here’s how you might start a simple Langchain project in Python:\\nTo integrate LangSmith, you could write something like this:\\nYou’re not limited to Python, though.', \"Unveiling Their Unique Roles in Language Models\\nRead more\\nLangChain vs. OpenAI: Which Unlocks Your App's True Potential?\\nRead more\\nWhich AI Reigns Supreme: LangChain vs. Hugging Face?\\nRead more\\nLangChain vs Haystack: Which Triumphs in LLM Orchestration?\\nRead more\\nLangChain vs. AutoGen: Which Framework Powers AI More Effectively?\\nRead more\\nSign in\\nDon't have an account yet?\\nSign up here\\nSign up\\nAlready have an account?\\nSign in here\\nForgot password?\\nRemember your password?\\nSign in here\\nUnlock Your Career Potential with Our Online Courses: Explore Reviews, Roadmaps, Tutorials, and Learning Apps to Land Your Dream Job. Why Choose LangSmith for Production?\\nLangSmith justifies its cost through its focus on five core pillars designed to enhance the development and management of LLM-powered applications:\\nA significant advantage of using LangSmith is its user-friendly interface that lowers the entry barrier for individuals without extensive software development experience. LangSmith: Your Dashboard to LangChain's Engine\\nJust as a car dashboard provides crucial information about the performance of a vehicle, LangSmith offers a comprehensive view into the workings of your language model applications powered by LangChain. In essence, while the cost of using LangSmith may be higher than LangChain, the investment is compensated by a significant reduction in long-term production risks and the assurance of delivering a polished, professional product.\\n Comments\\nDelete comment\\nAre you sure you want to delete the comment?\\nRead more\\nChoosing AI Partners: LangChain's Innovation or Bedrock's Simplicity?\\nRead more\\nLangChain vs RAG:\", \"The Elastic AI Assistant for security supports the security analyst workflow with alert summarization, workflow suggestions, query generation and conversion, and more.\\n Built with LangChain\\nTeams building with LangChain are driving operational efficiency, increasing discovery & personalization, and delivering premium products that generate revenue.\\n Instabase AI Hub powers intelligent solutions that understand any type of document, execute custom business logic, facilitate human review at every step, and integrate with industry-specific systems to support business decisions.\\n Morningstar's Intelligence Engine Platform reads and recalls hundreds of thousands of research reports Morningstar produces and lets their customers ask questions to get unique market insights.\\n Realm-X automates critical real estate workflows and eliminates repetitive tasks, freeing up property managers to focus on more meaningful work like building resident connections and driving business performance.\\n\", \"Use cases. This section contains walkthroughs and techniques for common end-to-end use tasks. If you're looking to build something specific or are more of a hands-on learner, try one out! While they reference building blocks that are explained in greater detail in other sections, we absolutely encourage folks to get started by going through ...\", \"Use Case: Optimization. We've also added an example use case showing how to combine all these features into a relatively advanced use case. The use case we put together shows how to create an app that can learn over time how to tweet in a style that you like. It does this using a few technologies: Log all traces to LangSmith\", \"Use Cases. The following guides are provided to serve as example use cases for how you can use LangSmith's production logging and automations. These are not meant to be exhaustive, nor are they optimized for your use case. They are meant as a reference to help you get started.\", 'Sign up\\nSign in\\nSign up\\nSign in\\nIntroduction to LLMs and their Applications\\nPrasad Thammineni\\nFollow\\nTowards Generative AI Applications\\n--\\nListen\\nShare\\nThis blog post is the first in a series of articles to help bring full-stack engineers up to speed on LLMs and build LLM applications.\\n Happy learning!\\n--\\n--\\nWritten by Prasad Thammineni\\nTowards Generative AI Applications\\nVP Customer Experience Product and Head of Gen AI at Rappi | Entrepreneur | Web1, Web2, Web3, Gen AI Apps | Wharton, BITS\\nHelp\\nStatus\\nAbout\\nCareers\\nBlog\\nPrivacy\\nTerms\\nText to speech\\nTeams The Importance of LLMs in Modern AI Applications\\nLLMs have transformed the field of AI and NLP, making it possible to create more sophisticated and human-like interactions with computers. For example, given a news article about a recent election, an LLM can produce a summary highlighting the key points, such as the winner, the margin of victory, and the main issues debated during the campaign.\\n For instance, given a set of customer reviews for a product, an LLM can identify the overall sentiment towards the product by classifying each review’s sentiment and summarising the results.\\n', 'Over the past year, LLMs have become \"good enough\" for real-world applications. The pace of improvements in LLMs, coupled with a parade of demos on social media, will fuel an estimated $200B investment in AI by 2025. LLMs are also broadly accessible, allowing everyone, not just ML engineers and scientists, to build intelligence into their ...', 'Additionally, Morningstar enables their customers to build white-labeled chatbots and other AI tools of their own through the MIE platform. Several members of the Morningstar team were familiar with LangChain through their contributions to the open-source repository and chose LangChain to build a production-ready application due to its robust ...', 'Using their new platform, Morningstar Intelligence Engine, Morningstar customers can now securely upload their own research information - to provide more context and personalization to Morningstar data - and then \"whitelist\" the chatbot for their end customers to use. Several Morningstar team members were already familiar with LangChain ...', 'Evaluation. Don\\'t ship on \"vibes\" alone. Define a test suite to capture. qualitative and quantitative performance metrics. Request a demo Go to Docs. A proper evaluation framework gives you the confidence to put LLMs at the center of your application. LangSmith integrates with LangChain off-the-shelf and fully custom evaluators, allowing ...', 'Reviewing the Results\\nThe comparison views also make it easy to manually review the outputs to get a better sense for how the models behave, so you can make adjustments to your cognitive architecture and update the evaluation techniques to address any failure modes you identify.\\n Both say that they cannot see an explicit answer to the question (since the retriever is the same), but the assistant is willing to provide context on how strict is used in other contexts as a pointer for the user.\\n If you are using a model like gpt-3.5 and getting hallucinations like this, you can try adding an additional system prompt reminding the model to only respond based on the retrieved content, and you can work to improve the retriever to filter out irrelevant documents.\\n If you compare the outputs, you can see that mistral was influenced too much by the document content and mentioned the class from the docs rather than the direct answer.\\n As a part of the initial release, we have evaluated various implementations that differ across a few dimensions:\\nYou can check out the link above to review the results or continue with the information below!\\n']}}\n",
      "{'generate': {'draft': \"### The Difference Between LangChain and LangSmith\\n\\n#### I. Introduction\\nIn the rapidly evolving landscape of artificial intelligence, language models have become indispensable tools for a myriad of applications, from chatbots to complex data analysis. Among the prominent frameworks facilitating the use of large language models (LLMs) are LangChain and LangSmith. These tools, while both aimed at enhancing the capabilities of LLMs, differ significantly in their design, functionality, and use cases. This essay will explore these differences, providing a comprehensive understanding of each tool's unique contributions to the field of AI.\\n\\n#### II. Overview of LangChain\\nLangChain is an open-source framework designed to simplify the development of applications that leverage large language models like GPT-3. Its primary objective is to provide a robust and flexible platform for integrating LLMs into various applications, making it accessible to developers with varying levels of expertise.\\n\\n**Key Features:**\\nLangChain offers a range of core functionalities, including seamless integration with multiple LLMs, support for various programming languages, and a modular architecture that allows for easy customization. One of its unique selling points is its open-source nature, which fosters a collaborative community and continuous improvement.\\n\\n**Use Cases:**\\nLangChain is typically applied in scenarios requiring sophisticated natural language processing capabilities. Industries such as finance, healthcare, and real estate have utilized LangChain to build applications that automate tasks, enhance customer interactions, and provide deep insights from large datasets. For instance, Morningstar's Intelligence Engine Platform uses LangChain to process and analyze vast amounts of financial research, enabling users to gain unique market insights.\\n\\n#### III. Overview of LangSmith\\nLangSmith, on the other hand, is a commercial tool designed to enhance the production and management of LLM-powered applications. It focuses on providing a user-friendly interface and comprehensive monitoring capabilities, making it ideal for production environments where reliability and ease of use are paramount.\\n\\n**Key Features:**\\nLangSmith's core functionalities include a dashboard for real-time monitoring, advanced logging and evaluation tools, and seamless integration with LangChain. Its unique selling points are its focus on reducing production risks and its ability to deliver polished, professional products with minimal development overhead.\\n\\n**Use Cases:**\\nLangSmith is often used in production settings where maintaining high reliability and performance is crucial. It is particularly beneficial for teams that need to manage complex LLM applications without extensive software development experience. For example, Realm-X uses LangSmith to automate real estate workflows, freeing up property managers to focus on more meaningful tasks.\\n\\n#### IV. Comparative Analysis\\n**Design and Architecture:**\\nLangChain's design is centered around flexibility and extensibility, allowing developers to tailor the framework to their specific needs. In contrast, LangSmith is designed with a focus on user-friendliness and production-readiness, offering a more streamlined and integrated experience.\\n\\n**Functionality:**\\nWhile both tools offer robust functionalities, LangChain excels in providing a wide range of customization options and support for various LLMs. LangSmith, however, stands out with its advanced monitoring and evaluation tools, which are crucial for maintaining high performance in production environments.\\n\\n**Performance and Efficiency:**\\nLangChain's open-source nature allows for continuous optimization and community-driven improvements, making it highly efficient for a wide range of applications. LangSmith, with its focus on production, offers superior performance monitoring and risk management, ensuring that applications run smoothly and efficiently.\\n\\n**User Experience:**\\nLangChain, being open-source, has a steeper learning curve but offers extensive community support and resources. LangSmith, with its user-friendly interface, lowers the entry barrier for users without extensive technical backgrounds, providing a more accessible experience.\\n\\n#### V. Advantages and Disadvantages\\n**LangChain:**\\n*Strengths:* Flexibility, extensive customization options, strong community support.\\n*Limitations:* Steeper learning curve, requires more technical expertise.\\n\\n**LangSmith:**\\n*Strengths:* User-friendly interface, advanced monitoring and evaluation tools, reduced production risks.\\n*Limitations:* Higher cost, less flexibility compared to LangChain.\\n\\n#### VI. Case Studies\\n**LangChain in Action:**\\nMorningstar's Intelligence Engine Platform leverages LangChain to process and analyze financial research, providing users with unique market insights.\\n\\n**LangSmith in Action:**\\nRealm-X uses LangSmith to automate real estate workflows, enhancing operational efficiency and allowing property managers to focus on more meaningful tasks.\\n\\n**Comparative Outcomes:**\\nBoth tools have demonstrated significant benefits in their respective use cases, with LangChain excelling in flexibility and customization, and LangSmith providing superior production management and ease of use.\\n\\n#### VII. Future Prospects\\n**LangChain:**\\nFuture developments for LangChain may include enhanced support for new LLMs, improved modularity, and expanded community-driven features.\\n\\n**LangSmith:**\\nLangSmith is likely to continue focusing on enhancing its monitoring and evaluation tools, as well as expanding its user-friendly features to cater to a broader audience.\\n\\n#### VIII. Conclusion\\nIn summary, while LangChain and LangSmith both serve to enhance the capabilities of large language models, they cater to different needs and use cases. LangChain offers flexibility and extensive customization, making it ideal for developers seeking a robust and adaptable framework. LangSmith, with its user-friendly interface and advanced production tools, is better suited for environments where reliability and ease of use are paramount. Understanding these differences is crucial for users and developers to choose the right tool for their specific needs, ultimately driving the successful implementation of AI applications.\", 'revision_number': 3}}\n"
     ]
    }
   ],
   "source": [
    "thread = {\"configurable\": {\"thread_id\": \"1\"}}\n",
    "for s in graph.stream({\n",
    "    'task': \"what is the difference between langchain and langsmith\",\n",
    "    \"max_revisions\": 2,\n",
    "    \"revision_number\": 1,\n",
    "}, thread):\n",
    "    print(s)"
   ]
  },
  {
   "cell_type": "code",
   "execution_count": null,
   "id": "0ad8a6cc-65d4-4ce7-87aa-4e67d7c23d7b",
   "metadata": {
    "height": 30
   },
   "outputs": [],
   "source": []
  },
  {
   "cell_type": "code",
   "execution_count": null,
   "id": "592b5e62-a203-433c-92a0-3783f490cde1",
   "metadata": {
    "height": 30
   },
   "outputs": [],
   "source": []
  },
  {
   "cell_type": "code",
   "execution_count": null,
   "id": "14fa923c-7e4f-42d1-965f-0f8ccd50fbd7",
   "metadata": {
    "height": 30
   },
   "outputs": [],
   "source": []
  },
  {
   "cell_type": "code",
   "execution_count": null,
   "id": "570c6245-2837-4ac5-983b-95f61f3ac10d",
   "metadata": {
    "height": 30
   },
   "outputs": [],
   "source": []
  },
  {
   "cell_type": "code",
   "execution_count": null,
   "id": "6b910915-b087-4d35-afff-0ec30a5852f1",
   "metadata": {
    "height": 30
   },
   "outputs": [],
   "source": []
  },
  {
   "cell_type": "code",
   "execution_count": null,
   "id": "c4feb6cc-5129-4a99-bb45-851bc07b5709",
   "metadata": {
    "height": 30
   },
   "outputs": [],
   "source": []
  },
  {
   "cell_type": "code",
   "execution_count": null,
   "id": "e85a02b4-96cc-4b01-8792-397a774eb499",
   "metadata": {
    "height": 30
   },
   "outputs": [],
   "source": []
  },
  {
   "cell_type": "code",
   "execution_count": null,
   "id": "ae8b86a6-5e20-4252-b1d8-009b8318345a",
   "metadata": {
    "height": 30
   },
   "outputs": [],
   "source": []
  },
  {
   "cell_type": "code",
   "execution_count": null,
   "id": "af925917-b746-48c9-ac74-62fefbe5246c",
   "metadata": {
    "height": 30
   },
   "outputs": [],
   "source": []
  },
  {
   "cell_type": "code",
   "execution_count": null,
   "id": "d5048f2c-4d82-49a5-9cb1-918d78b39f7b",
   "metadata": {
    "height": 30
   },
   "outputs": [],
   "source": []
  },
  {
   "cell_type": "code",
   "execution_count": null,
   "id": "393f7f1f-68b4-4462-bfa5-b6472ef1304a",
   "metadata": {
    "height": 30
   },
   "outputs": [],
   "source": []
  },
  {
   "cell_type": "code",
   "execution_count": null,
   "id": "43ac0aa9-baa7-4b58-889d-2118cc00c6b5",
   "metadata": {
    "height": 30
   },
   "outputs": [],
   "source": []
  },
  {
   "cell_type": "code",
   "execution_count": null,
   "id": "ed6098b9-e2a9-4767-8cb5-346db835c8d2",
   "metadata": {
    "height": 30
   },
   "outputs": [],
   "source": []
  },
  {
   "cell_type": "code",
   "execution_count": null,
   "id": "2d23cf2a-a179-44dc-9ae3-2eddda4b67b4",
   "metadata": {
    "height": 30
   },
   "outputs": [],
   "source": []
  },
  {
   "cell_type": "code",
   "execution_count": null,
   "id": "14a6005b-0221-4f5e-9be0-0580c1d03126",
   "metadata": {
    "height": 30
   },
   "outputs": [],
   "source": []
  },
  {
   "cell_type": "code",
   "execution_count": null,
   "id": "41c1ec12-f1c8-41ae-bb3e-5f28997b9b99",
   "metadata": {
    "height": 30
   },
   "outputs": [],
   "source": []
  },
  {
   "cell_type": "code",
   "execution_count": null,
   "id": "5c8c07d7-be17-4c17-82c5-6fe1db028b8b",
   "metadata": {
    "height": 30
   },
   "outputs": [],
   "source": []
  },
  {
   "cell_type": "code",
   "execution_count": null,
   "id": "04592c8e-1cfe-4b26-93b5-caf1ed1e7d24",
   "metadata": {
    "height": 30
   },
   "outputs": [],
   "source": []
  },
  {
   "cell_type": "code",
   "execution_count": null,
   "id": "6181c4a9-0e71-4f67-b71f-18a225e37202",
   "metadata": {
    "height": 30
   },
   "outputs": [],
   "source": []
  },
  {
   "cell_type": "code",
   "execution_count": null,
   "id": "e1c478a9-7bfe-49e2-8a7d-1536271f45a6",
   "metadata": {
    "height": 30
   },
   "outputs": [],
   "source": []
  },
  {
   "cell_type": "code",
   "execution_count": null,
   "id": "0a6d6771-3fad-4f37-9b32-45b36ad85c59",
   "metadata": {
    "height": 30
   },
   "outputs": [],
   "source": []
  },
  {
   "cell_type": "code",
   "execution_count": null,
   "id": "a3629eb3-655d-467a-b413-63f547c2de08",
   "metadata": {
    "height": 30
   },
   "outputs": [],
   "source": []
  },
  {
   "cell_type": "code",
   "execution_count": null,
   "id": "f772f251-2b61-4d10-97c5-61cef9207a76",
   "metadata": {
    "height": 30
   },
   "outputs": [],
   "source": []
  },
  {
   "cell_type": "code",
   "execution_count": null,
   "id": "0de92979-7ac5-4a7c-91c1-10806b7d529c",
   "metadata": {
    "height": 30
   },
   "outputs": [],
   "source": []
  },
  {
   "cell_type": "code",
   "execution_count": null,
   "id": "479c4325-f625-4bbf-9d74-cc58f10763f2",
   "metadata": {
    "height": 30
   },
   "outputs": [],
   "source": []
  },
  {
   "cell_type": "code",
   "execution_count": null,
   "id": "c4070be7-72da-42f9-a25d-8a6c628788b8",
   "metadata": {
    "height": 30
   },
   "outputs": [],
   "source": []
  },
  {
   "cell_type": "code",
   "execution_count": null,
   "id": "9289efbe-7033-4f32-8482-2039c5f9db90",
   "metadata": {
    "height": 30
   },
   "outputs": [],
   "source": []
  },
  {
   "cell_type": "code",
   "execution_count": null,
   "id": "25e480bb-22ab-4acb-a42c-71da3d04a5b1",
   "metadata": {
    "height": 30
   },
   "outputs": [],
   "source": []
  },
  {
   "cell_type": "code",
   "execution_count": null,
   "id": "90dea35c-7483-4b3d-b5e3-76eb3a0fe536",
   "metadata": {
    "height": 30
   },
   "outputs": [],
   "source": []
  },
  {
   "cell_type": "code",
   "execution_count": null,
   "id": "e9ac5730-a9d5-4ea4-8546-ebcb265cf1da",
   "metadata": {
    "height": 30
   },
   "outputs": [],
   "source": []
  },
  {
   "cell_type": "code",
   "execution_count": null,
   "id": "96e1f28b-46d8-4bcd-b2e4-730376ee7ccf",
   "metadata": {
    "height": 30
   },
   "outputs": [],
   "source": []
  },
  {
   "cell_type": "code",
   "execution_count": null,
   "id": "22ac7020-b4f4-4bd2-a875-ccee93f83d83",
   "metadata": {
    "height": 30
   },
   "outputs": [],
   "source": []
  },
  {
   "cell_type": "code",
   "execution_count": null,
   "id": "61f79eb9-d1c9-44b0-9efd-a8f9b380332a",
   "metadata": {
    "height": 30
   },
   "outputs": [],
   "source": []
  },
  {
   "cell_type": "code",
   "execution_count": null,
   "id": "ce509206-bde1-43e4-a88f-8a565539d357",
   "metadata": {
    "height": 30
   },
   "outputs": [],
   "source": []
  },
  {
   "cell_type": "code",
   "execution_count": null,
   "id": "bdba1590-9e7b-4c0f-9492-81a07d286c55",
   "metadata": {
    "height": 30
   },
   "outputs": [],
   "source": []
  },
  {
   "cell_type": "code",
   "execution_count": null,
   "id": "aa8fe4a8-5372-479d-b248-af7a295c86c1",
   "metadata": {
    "height": 30
   },
   "outputs": [],
   "source": []
  },
  {
   "cell_type": "code",
   "execution_count": null,
   "id": "7514720a-14bc-4552-ade5-fa03f86f4c73",
   "metadata": {
    "height": 30
   },
   "outputs": [],
   "source": []
  }
 ],
 "metadata": {
  "kernelspec": {
   "display_name": "Python 3 (ipykernel)",
   "language": "python",
   "name": "python3"
  },
  "language_info": {
   "codemirror_mode": {
    "name": "ipython",
    "version": 3
   },
   "file_extension": ".py",
   "mimetype": "text/x-python",
   "name": "python",
   "nbconvert_exporter": "python",
   "pygments_lexer": "ipython3",
   "version": "3.11.9"
  }
 },
 "nbformat": 4,
 "nbformat_minor": 5
}
