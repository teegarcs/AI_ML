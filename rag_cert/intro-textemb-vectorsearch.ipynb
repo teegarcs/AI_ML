{
 "cells": [
  {
   "cell_type": "code",
   "execution_count": null,
   "metadata": {
    "id": "c3_K0GGSTrhd"
   },
   "outputs": [],
   "source": [
    "# Copyright 2023 Google LLC\n",
    "#\n",
    "# Licensed under the Apache License, Version 2.0 (the \"License\");\n",
    "# you may not use this file except in compliance with the License.\n",
    "# You may obtain a copy of the License at\n",
    "#\n",
    "#     https://www.apache.org/licenses/LICENSE-2.0\n",
    "#\n",
    "# Unless required by applicable law or agreed to in writing, software\n",
    "# distributed under the License is distributed on an \"AS IS\" BASIS,\n",
    "# WITHOUT WARRANTIES OR CONDITIONS OF ANY KIND, either express or implied.\n",
    "# See the License for the specific language governing permissions and\n",
    "# limitations under the License."
   ]
  },
  {
   "cell_type": "markdown",
   "metadata": {
    "id": "7VQkf8sFTeDo"
   },
   "source": [
    "# Getting Started with Text Embeddings + Vertex AI Vector Search\n",
    "\n",
    "\n",
    "<table align=\"left\">\n",
    "  <td style=\"text-align: center\">\n",
    "    <a href=\"https://colab.research.google.com/github/GoogleCloudPlatform/generative-ai/blob/main/embeddings/intro-textemb-vectorsearch.ipynb\">\n",
    "      <img src=\"https://cloud.google.com/ml-engine/images/colab-logo-32px.png\" alt=\"Google Colaboratory logo\"><br> Run in Colab\n",
    "    </a>\n",
    "  </td>\n",
    "  <td style=\"text-align: center\">\n",
    "    <a href=\"https://github.com/GoogleCloudPlatform/generative-ai/blob/main/embeddings/intro-textemb-vectorsearch.ipynb\">\n",
    "      <img src=\"https://cloud.google.com/ml-engine/images/github-logo-32px.png\" alt=\"GitHub logo\"><br> View on GitHub\n",
    "    </a>\n",
    "  </td>\n",
    "  <td style=\"text-align: center\">\n",
    "    <a href=\"https://console.cloud.google.com/vertex-ai/workbench/deploy-notebook?download_url=https://raw.githubusercontent.com/GoogleCloudPlatform/generative-ai/main/embeddings/intro-textemb-vectorsearch.ipynb\">\n",
    "      <img src=\"https://lh3.googleusercontent.com/UiNooY4LUgW_oTvpsNhPpQzsstV5W8F7rYgxgGBD85cWJoLmrOzhVs_ksK_vgx40SHs7jCqkTkCk=e14-rj-sc0xffffff-h130-w32\" alt=\"Vertex AI logo\"><br> Open in Vertex AI Workbench\n",
    "    </a>\n",
    "  </td>\n",
    "</table>"
   ]
  },
  {
   "cell_type": "markdown",
   "metadata": {},
   "source": [
    "| | |\n",
    "|-|-|\n",
    "|Author(s) | [Smitha Venkat](https://github.com/smitha-google), [Kaz Sato](https://github.com/kazunori279)|"
   ]
  },
  {
   "cell_type": "markdown",
   "metadata": {},
   "source": [
    "## Introduction\n",
    "\n",
    "In this tutorial, you learn how to use Google Cloud AI tools to quickly bring the power of Large Language Models to enterprise systems.  \n",
    "\n",
    "This tutorial covers the following -\n",
    "\n",
    "*   What are embeddings - what business challenges do they help solve ?\n",
    "*   Understanding Text with Vertex AI Text Embeddings\n",
    "*   Find Embeddings fast with Vertex AI Vector Search\n",
    "*   Grounding LLM outputs with Vector Search\n",
    "\n",
    "This tutorial is based on [the blog post](https://cloud.google.com/blog/products/ai-machine-learning/how-to-use-grounding-for-your-llms-with-text-embeddings), combined with sample code.\n",
    "\n",
    "\n",
    "### Prerequisites\n",
    "\n",
    "This tutorial is designed for developers who has basic knowledge and experience with Python programming and machine learning.\n",
    "\n",
    "If you are not reading this tutorial in Qwiklab, then you need to have a Google Cloud project that is linked to a billing account to run this. Please go through [this document](https://cloud.google.com/vertex-ai/docs/start/cloud-environment) to create a project and setup a billing account for it.\n",
    "\n",
    "### Choose the runtime environment\n",
    "\n",
    "The notebook can be run on either Google Colab or [Vertex AI Workbench](https://cloud.google.com/vertex-ai-workbench).\n",
    "\n",
    "- To use Colab: Click [this link](https://colab.research.google.com/github/GoogleCloudPlatform/generative-ai/blob/main/embeddings/intro-textemb-vectorsearch.ipynb) to open the tutorial in Colab.\n",
    "\n",
    "- To use Workbench: If it is the first time to use Workbench in your Google Cloud project, open [the Workbench console](https://console.cloud.google.com/vertex-ai/workbench) and click ENABLE button to enable Notebooks API. Then click [this link](https://console.cloud.google.com/vertex-ai/workbench/deploy-notebook?download_url=https://raw.githubusercontent.com/GoogleCloudPlatform/generative-ai/main/embeddings/intro-textemb-vectorsearch.ipynb),  and select an existing notebook or create a new notebook.\n"
   ]
  },
  {
   "cell_type": "markdown",
   "metadata": {
    "id": "2pImjuenUIQz"
   },
   "source": [
    "### How much will this cost?\n",
    "\n",
    "In case you are using your own Cloud project, not a temporary project on Qwiklab, you need to spend roughly a few US dollars to finish this tutorial.\n",
    "\n",
    "The pricing of the Cloud services we will use in this tutorial are avilable in the following pages:\n",
    "\n",
    "- [Vertex AI Embeddings for Text](https://cloud.google.com/vertex-ai/pricing#generative_ai_models)\n",
    "- [Vertex AI Vector Search](https://cloud.google.com/vertex-ai/pricing#matchingengine)\n",
    "- [BigQuery](https://cloud.google.com/bigquery/pricing)\n",
    "- [Cloud Storage](https://cloud.google.com/storage/pricing)\n",
    "- [Vertex AI Workbench](https://cloud.google.com/vertex-ai/pricing#notebooks) if you use one\n",
    "\n",
    "You can use the [Pricing Calculator](https://cloud.google.com/products/calculator) to generate a cost estimate based on your projected usage. The following is an example of rough cost estimation with the calculator, assuming you will go through this tutorial a couple of time.\n",
    "\n",
    "<img src=\"https://storage.googleapis.com/github-repo/img/embeddings/vs-quickstart/pricing.png\" width=\"50%\"/>\n",
    "\n",
    "### **Warning: delete your objects after the tutorial**\n",
    "\n",
    "In case you are using your own Cloud project, please make sure to delete all the Indexes, Index Endpoints and Cloud Storage buckets (and the Workbench instance if you use one) after finishing this tutorial. Otherwise the remaining assets would incur unexpected costs.\n"
   ]
  },
  {
   "cell_type": "markdown",
   "metadata": {
    "id": "6Fu2OoUDTQ6w"
   },
   "source": [
    "# Bringing Gen AI and LLMs to production services\n",
    "\n",
    "Many people are now starting to think about how to bring Gen AI and LLMs to production services, and facing with several challenges.\n",
    "\n",
    "- \"How to integrate LLMs or AI chatbots with existing IT systems, databases and business data?\"\n",
    "- \"We have thousands of products. How can I let LLM memorize them all precisely?\"\n",
    "- \"How to handle the hallucination issues in AI chatbots to build a reliable service?\"\n",
    "\n",
    "Here is a quick solution: **grounding** with **embeddings** and **vector search**.\n",
    "\n",
    "What is grounding? What are embedding and vector search? In this tutorial, we will learn these crucial concepts to build reliable Gen AI services for enterprise use. But before we dive deeper, let's try the demo below."
   ]
  },
  {
   "cell_type": "markdown",
   "metadata": {
    "id": "ORqZYLgTm9pJ"
   },
   "source": [
    "![](https://storage.googleapis.com/gweb-cloudblog-publish/original_images/1._demo_animation.gif)\n",
    "\n",
    "**Exercise: Try the Stack Overflow semantic search demo:**\n",
    "\n",
    "This demo is available as a [public live demo](https://ai-demos.dev/). Select \"STACKOVERFLOW\" and enter any coding question as a query, so it runs a text search on **8 million** questions posted on [Stack Overflow](https://stackoverflow.com/). Try the text semantic search with some queries like 'How to shuffle rows in SQL?' or arbitrary programming questions.\n",
    "\n",
    "In this tutorial, we are going to see how to build a similar search experience - what is involved in building solutions like this using Vertex AI Embeddings API and Vector Search."
   ]
  },
  {
   "cell_type": "markdown",
   "metadata": {
    "id": "H1MAIOkCw35V"
   },
   "source": [
    "# What is Embeddings?\n",
    "\n",
    "With the rise of LLMs, why is it becoming important for IT engineers and ITDMs to understand how they work?\n",
    "\n",
    "In traditional IT systems, most data is organized as structured or tabular data, using simple keywords, labels, and categories in databases and search engines.\n",
    "\n",
    "![](https://storage.googleapis.com/github-repo/img/embeddings/textemb-vs-notebook/1.png)\n",
    "\n",
    "In contrast, AI-powered services arrange data into a simple data structure known as \"embeddings.\"\n",
    "\n",
    "![](https://storage.googleapis.com/github-repo/img/embeddings/textemb-vs-notebook/2.png)"
   ]
  },
  {
   "cell_type": "markdown",
   "metadata": {
    "id": "hJqjBmQsxz2Z"
   },
   "source": [
    "Once trained with specific content like text, images, or any content, AI creates a space called \"embedding space\", which is essentially a map of the content's meaning.\n",
    "\n",
    "![](https://storage.googleapis.com/github-repo/img/embeddings/textemb-vs-notebook/3.png)\n",
    "\n",
    "AI can identify the location of each content on the map, that's what embedding is.\n",
    "\n",
    "![](https://storage.googleapis.com/github-repo/img/embeddings/textemb-vs-notebook/4.png)\n",
    "\n",
    "Let's take an example where a text discusses movies, music, and actors, with a distribution of 10%, 2%, and 30%, respectively. In this case, the AI can create an embedding with three values: 0.1, 0.02, and 0.3, in 3 dimensional space.\n",
    "\n",
    "![](https://storage.googleapis.com/github-repo/img/embeddings/textemb-vs-notebook/5.png)\n",
    "\n",
    "AI can put content with similar meanings closely together in the space."
   ]
  },
  {
   "cell_type": "markdown",
   "metadata": {
    "id": "A5z7vyTyzk_4"
   },
   "source": [
    "This is how Google organizes data across various services like Google Search, YouTube, Play, and many others, to provide search results and recommendations with relevant content.\n",
    "\n",
    "Embeddings can also be used to represent different types of things in businesses, such as products, users, user activities, conversations, music & videos, signals from IoT sensors, and so on."
   ]
  },
  {
   "cell_type": "markdown",
   "metadata": {
    "id": "tpKVmyEe0ab9"
   },
   "source": [
    "AI and Embeddings are now playing a crucial role in creating a new way of human-computer interaction.\n",
    "\n",
    "![](https://storage.googleapis.com/github-repo/img/embeddings/textemb-vs-notebook/6.png)\n",
    "\n",
    "AI organizes data into embeddings, which represent what the user is looking for, the meaning of contents, or many other things you have in your business. This creates a new level of user experience that is becoming the new standard.\n",
    "\n",
    "To learn more about embeddings, [Foundational courses: Embeddings on Google Machine Learning Crush Course](https://developers.google.com/machine-learning/crash-course/embeddings/video-lecture) and [Meet AI’s multitool: Vector embeddings by Dale Markowitz](https://cloud.google.com/blog/topics/developers-practitioners/meet-ais-multitool-vector-embeddings) are great materials.\n",
    "\n"
   ]
  },
  {
   "cell_type": "markdown",
   "metadata": {
    "id": "ovQpiL2GUEXa"
   },
   "source": [
    "# Vertex AI Embeddings for Text\n",
    "\n",
    "With the [Vertex AI Embeddings for Text](https://cloud.google.com/vertex-ai/docs/generative-ai/embeddings/get-text-embeddings), you can easily create a text embedding with LLM. The product is also available on [Vertex AI Model Garden](https://cloud.google.com/model-garden)\n",
    "\n",
    "![](https://storage.googleapis.com/github-repo/img/embeddings/textemb-vs-notebook/7.png)\n",
    "\n",
    "This API is designed to extract embeddings from texts. It can take text input up to 3,072 input tokens, and outputs 768 dimensional text embeddings."
   ]
  },
  {
   "cell_type": "markdown",
   "metadata": {
    "id": "nwJHDPG7lU52"
   },
   "source": [
    "## LLM text embedding business use cases\n",
    "\n",
    "With the embedding API, you can apply the innovation of embeddings, combined with the LLM capability, to various text processing tasks, such as:\n",
    "\n",
    "**LLM-enabled Semantic Search**: text embeddings can be used to represent both the meaning and intent of a user's query and documents in the embedding space. Documents that have similar meaning to the user's query intent will be found fast with vector search technology. The model is capable of generating text embeddings that capture the subtle nuances of each sentence and paragraphs in the document.\n",
    "\n",
    "**LLM-enabled Text Classification**: LLM text embeddings can be used for text classification with a deep understanding of different contexts without any training or fine-tuning (so-called zero-shot learning). This wasn't possible with the past language models without task-specific training.\n",
    "\n",
    "**LLM-enabled Recommendation**: The text embedding can be used for recommendation systems as a strong feature for training recommendation models such as Two-Tower model. The model learns the relationship between the query and candidate embeddings, resulting in next-gen user experience with semantic product recommendation.\n",
    "\n",
    "LLM-enabled Clustering, Anomaly Detection, Sentiment Analysis, and more, can be also handled with the LLM-level deep semantics understanding.\n",
    "\n",
    "\n"
   ]
  },
  {
   "cell_type": "markdown",
   "metadata": {
    "id": "ga5A7koYlvlZ"
   },
   "source": [
    "## Sorting 8 million texts at \"librarian-level\" precision\n",
    "\n",
    "Vertex AI Embeddings for Text has an embedding space with 768 dimensions. As explained earlier, the space represents a huge map of a wide variety of texts in the world, organized by their meanings. With each input text, the model can find a location (embedding) in the map.\n",
    "\n",
    "By visualizing the embedding space, you can actually observe how the model sorts the texts at the \"librarian-level\" precision.\n",
    "\n",
    "**Exercise: Try the Nomic AI Atlas**\n",
    "\n",
    "[Nomic AI](http://nomic.ai/) provides a platform called Atlas for storing, visualizing and interacting with embedding spaces with high scalability and in a smooth UI, and they worked with Google for visualizing the embedding space of the 8 million Stack Overflow questions. You can try exploring around the space, zooming in and out to each data point on your browser on this page, courtesy of Nomic AI.\n",
    "\n",
    "The embedding space represents a huge map of texts, organized by their meanings\n",
    "With each input text, the model can find a location (embedding) in the map\n",
    "Like a librarian reading through millions of texts, sorting them with millions of nano-categories\n",
    "\n",
    "Try exploring it [here](https://atlas.nomic.ai/map/edaff028-12b5-42a0-8e8b-6430c9b8222b/bcb42818-3581-4fb5-ac30-9883d01f98ec). Zoom into a few categories, point each dots, and see how the LLM is sorting similar questions close together in the space.\n",
    "\n",
    "![](https://storage.googleapis.com/gweb-cloudblog-publish/images/4._Nomic_AI_Atlas.max-2200x2200.png)\n",
    "\n",
    "### The librarian-level semantic understanding\n",
    "\n",
    "Here are the examples of the librarian-level semantic understanding by Embeddings API with Stack Overflow questions.\n",
    "\n",
    "![](https://storage.googleapis.com/gweb-cloudblog-publish/images/5._semantic_understanding.max-2200x2200.png)\n",
    "\n",
    "For example, the model thinks the question “Does moving the request line to a header frame require an app change?” is similar to the question “Does an application developed on HTTP1x require modifications to run on HTTP2?”. That is because The model knows both questions talk about what's the change required to support the HTTP2 header frame.\n",
    "\n",
    "Note that this demo didn't require any training or fine-tuning with computer programming specific datasets. This is the innovative part of the zero-shot learning capability of the LLM. It can be applied to a wide variety of industries, including finance, healthcare, retail, manufacturing, construction, media, and more, for deep semantic search on the industry-focused business documents without spending time and cost for collecting industry specific datasets and training models."
   ]
  },
  {
   "cell_type": "markdown",
   "metadata": {
    "id": "-iOWOKnIvYxf"
   },
   "source": [
    "# Text Embeddings in Action\n",
    "\n",
    "Lets try using Text Embeddings in action with actual sample code."
   ]
  },
  {
   "cell_type": "markdown",
   "metadata": {
    "id": "AtXnXhF8U-8R"
   },
   "source": [
    "## Setup\n",
    "\n",
    "Before get started with the Vertex AI services, we need to setup the following.\n",
    "\n",
    "* Install Python SDK\n",
    "* Environment variables\n",
    "* Authentication (Colab only)\n",
    "* Enable APIs\n",
    "* Set IAM permissions"
   ]
  },
  {
   "cell_type": "markdown",
   "metadata": {
    "id": "UjnvWl6FLUlF"
   },
   "source": [
    "### Install Python SDK\n",
    "\n",
    "Vertex AI, Cloud Storage and BigQuery APIs can be accessed with multiple ways including REST API and Python SDK. In this tutorial we will use the SDK."
   ]
  },
  {
   "cell_type": "code",
   "execution_count": 1,
   "metadata": {
    "id": "FZgLGALt_al7",
    "tags": []
   },
   "outputs": [
    {
     "name": "stdout",
     "output_type": "stream",
     "text": [
      "Requirement already satisfied: google-cloud-aiplatform in /opt/conda/lib/python3.10/site-packages (1.51.0)\n",
      "Requirement already satisfied: google-cloud-storage in /opt/conda/lib/python3.10/site-packages (2.14.0)\n",
      "Collecting google-cloud-storage\n",
      "  Downloading google_cloud_storage-2.16.0-py2.py3-none-any.whl.metadata (6.1 kB)\n",
      "Requirement already satisfied: google-cloud-bigquery[pandas] in /opt/conda/lib/python3.10/site-packages (3.22.0)\n",
      "Collecting google-cloud-bigquery[pandas]\n",
      "  Downloading google_cloud_bigquery-3.23.0-py2.py3-none-any.whl.metadata (8.9 kB)\n",
      "Requirement already satisfied: google-api-core!=2.0.*,!=2.1.*,!=2.2.*,!=2.3.*,!=2.4.*,!=2.5.*,!=2.6.*,!=2.7.*,<3.0.0dev,>=1.34.1 in /opt/conda/lib/python3.10/site-packages (from google-api-core[grpc]!=2.0.*,!=2.1.*,!=2.2.*,!=2.3.*,!=2.4.*,!=2.5.*,!=2.6.*,!=2.7.*,<3.0.0dev,>=1.34.1->google-cloud-aiplatform) (1.34.1)\n",
      "Requirement already satisfied: google-auth<3.0.0dev,>=2.14.1 in /opt/conda/lib/python3.10/site-packages (from google-cloud-aiplatform) (2.29.0)\n",
      "Requirement already satisfied: proto-plus<2.0.0dev,>=1.22.0 in /opt/conda/lib/python3.10/site-packages (from google-cloud-aiplatform) (1.23.0)\n",
      "Requirement already satisfied: protobuf!=3.20.0,!=3.20.1,!=4.21.0,!=4.21.1,!=4.21.2,!=4.21.3,!=4.21.4,!=4.21.5,<5.0.0dev,>=3.19.5 in /opt/conda/lib/python3.10/site-packages (from google-cloud-aiplatform) (3.19.6)\n",
      "Requirement already satisfied: packaging>=14.3 in /opt/conda/lib/python3.10/site-packages (from google-cloud-aiplatform) (24.0)\n",
      "Requirement already satisfied: google-cloud-resource-manager<3.0.0dev,>=1.3.3 in /opt/conda/lib/python3.10/site-packages (from google-cloud-aiplatform) (1.12.3)\n",
      "Requirement already satisfied: shapely<3.0.0dev in /opt/conda/lib/python3.10/site-packages (from google-cloud-aiplatform) (2.0.4)\n",
      "Requirement already satisfied: pydantic<3 in /opt/conda/lib/python3.10/site-packages (from google-cloud-aiplatform) (1.10.15)\n",
      "Requirement already satisfied: docstring-parser<1 in /opt/conda/lib/python3.10/site-packages (from google-cloud-aiplatform) (0.16)\n",
      "Collecting google-api-core!=2.0.*,!=2.1.*,!=2.2.*,!=2.3.*,!=2.4.*,!=2.5.*,!=2.6.*,!=2.7.*,<3.0.0dev,>=1.34.1 (from google-api-core[grpc]!=2.0.*,!=2.1.*,!=2.2.*,!=2.3.*,!=2.4.*,!=2.5.*,!=2.6.*,!=2.7.*,<3.0.0dev,>=1.34.1->google-cloud-aiplatform)\n",
      "  Downloading google_api_core-2.19.0-py3-none-any.whl.metadata (2.7 kB)\n",
      "Requirement already satisfied: google-cloud-core<3.0dev,>=2.3.0 in /opt/conda/lib/python3.10/site-packages (from google-cloud-storage) (2.4.1)\n",
      "Requirement already satisfied: google-resumable-media>=2.6.0 in /opt/conda/lib/python3.10/site-packages (from google-cloud-storage) (2.7.0)\n",
      "Requirement already satisfied: requests<3.0.0dev,>=2.18.0 in /opt/conda/lib/python3.10/site-packages (from google-cloud-storage) (2.31.0)\n",
      "Requirement already satisfied: google-crc32c<2.0dev,>=1.0 in /opt/conda/lib/python3.10/site-packages (from google-cloud-storage) (1.5.0)\n",
      "Requirement already satisfied: python-dateutil<3.0dev,>=2.7.2 in /opt/conda/lib/python3.10/site-packages (from google-cloud-bigquery[pandas]) (2.9.0)\n",
      "Requirement already satisfied: pandas>=1.1.0 in /opt/conda/lib/python3.10/site-packages (from google-cloud-bigquery[pandas]) (2.0.3)\n",
      "Requirement already satisfied: pyarrow>=3.0.0 in /opt/conda/lib/python3.10/site-packages (from google-cloud-bigquery[pandas]) (9.0.0)\n",
      "Requirement already satisfied: db-dtypes<2.0.0dev,>=0.3.0 in /opt/conda/lib/python3.10/site-packages (from google-cloud-bigquery[pandas]) (1.2.0)\n",
      "Requirement already satisfied: numpy>=1.16.6 in /opt/conda/lib/python3.10/site-packages (from db-dtypes<2.0.0dev,>=0.3.0->google-cloud-bigquery[pandas]) (1.24.4)\n",
      "Requirement already satisfied: googleapis-common-protos<2.0.dev0,>=1.56.2 in /opt/conda/lib/python3.10/site-packages (from google-api-core!=2.0.*,!=2.1.*,!=2.2.*,!=2.3.*,!=2.4.*,!=2.5.*,!=2.6.*,!=2.7.*,<3.0.0dev,>=1.34.1->google-api-core[grpc]!=2.0.*,!=2.1.*,!=2.2.*,!=2.3.*,!=2.4.*,!=2.5.*,!=2.6.*,!=2.7.*,<3.0.0dev,>=1.34.1->google-cloud-aiplatform) (1.63.0)\n",
      "Requirement already satisfied: grpcio<2.0dev,>=1.33.2 in /opt/conda/lib/python3.10/site-packages (from google-api-core[grpc]!=2.0.*,!=2.1.*,!=2.2.*,!=2.3.*,!=2.4.*,!=2.5.*,!=2.6.*,!=2.7.*,<3.0.0dev,>=1.34.1->google-cloud-aiplatform) (1.48.1)\n",
      "Requirement already satisfied: grpcio-status<2.0.dev0,>=1.33.2 in /opt/conda/lib/python3.10/site-packages (from google-api-core[grpc]!=2.0.*,!=2.1.*,!=2.2.*,!=2.3.*,!=2.4.*,!=2.5.*,!=2.6.*,!=2.7.*,<3.0.0dev,>=1.34.1->google-cloud-aiplatform) (1.48.1)\n",
      "Requirement already satisfied: cachetools<6.0,>=2.0.0 in /opt/conda/lib/python3.10/site-packages (from google-auth<3.0.0dev,>=2.14.1->google-cloud-aiplatform) (4.2.4)\n",
      "Requirement already satisfied: pyasn1-modules>=0.2.1 in /opt/conda/lib/python3.10/site-packages (from google-auth<3.0.0dev,>=2.14.1->google-cloud-aiplatform) (0.4.0)\n",
      "Requirement already satisfied: rsa<5,>=3.1.4 in /opt/conda/lib/python3.10/site-packages (from google-auth<3.0.0dev,>=2.14.1->google-cloud-aiplatform) (4.9)\n",
      "Requirement already satisfied: grpc-google-iam-v1<1.0.0dev,>=0.12.4 in /opt/conda/lib/python3.10/site-packages (from google-cloud-resource-manager<3.0.0dev,>=1.3.3->google-cloud-aiplatform) (0.12.7)\n",
      "Requirement already satisfied: pytz>=2020.1 in /opt/conda/lib/python3.10/site-packages (from pandas>=1.1.0->google-cloud-bigquery[pandas]) (2024.1)\n",
      "Requirement already satisfied: tzdata>=2022.1 in /opt/conda/lib/python3.10/site-packages (from pandas>=1.1.0->google-cloud-bigquery[pandas]) (2024.1)\n",
      "Requirement already satisfied: typing-extensions>=4.2.0 in /opt/conda/lib/python3.10/site-packages (from pydantic<3->google-cloud-aiplatform) (4.11.0)\n",
      "Requirement already satisfied: six>=1.5 in /opt/conda/lib/python3.10/site-packages (from python-dateutil<3.0dev,>=2.7.2->google-cloud-bigquery[pandas]) (1.16.0)\n",
      "Requirement already satisfied: charset-normalizer<4,>=2 in /opt/conda/lib/python3.10/site-packages (from requests<3.0.0dev,>=2.18.0->google-cloud-storage) (3.3.2)\n",
      "Requirement already satisfied: idna<4,>=2.5 in /opt/conda/lib/python3.10/site-packages (from requests<3.0.0dev,>=2.18.0->google-cloud-storage) (3.7)\n",
      "Requirement already satisfied: urllib3<3,>=1.21.1 in /opt/conda/lib/python3.10/site-packages (from requests<3.0.0dev,>=2.18.0->google-cloud-storage) (1.26.18)\n",
      "Requirement already satisfied: certifi>=2017.4.17 in /opt/conda/lib/python3.10/site-packages (from requests<3.0.0dev,>=2.18.0->google-cloud-storage) (2024.2.2)\n",
      "Requirement already satisfied: pyasn1<0.7.0,>=0.4.6 in /opt/conda/lib/python3.10/site-packages (from pyasn1-modules>=0.2.1->google-auth<3.0.0dev,>=2.14.1->google-cloud-aiplatform) (0.6.0)\n",
      "Downloading google_cloud_storage-2.16.0-py2.py3-none-any.whl (125 kB)\n",
      "\u001b[2K   \u001b[90m━━━━━━━━━━━━━━━━━━━━━━━━━━━━━━━━━━━━━━━\u001b[0m \u001b[32m125.6/125.6 kB\u001b[0m \u001b[31m911.8 kB/s\u001b[0m eta \u001b[36m0:00:00\u001b[0m0:01\u001b[0m00:01\u001b[0m\n",
      "\u001b[?25hDownloading google_api_core-2.19.0-py3-none-any.whl (139 kB)\n",
      "\u001b[2K   \u001b[90m━━━━━━━━━━━━━━━━━━━━━━━━━━━━━━━━━━━━━━━━\u001b[0m \u001b[32m139.0/139.0 kB\u001b[0m \u001b[31m3.6 MB/s\u001b[0m eta \u001b[36m0:00:00\u001b[0mta \u001b[36m0:00:01\u001b[0m\n",
      "\u001b[?25hDownloading google_cloud_bigquery-3.23.0-py2.py3-none-any.whl (237 kB)\n",
      "\u001b[2K   \u001b[90m━━━━━━━━━━━━━━━━━━━━━━━━━━━━━━━━━━━━━━━━\u001b[0m \u001b[32m237.1/237.1 kB\u001b[0m \u001b[31m10.5 MB/s\u001b[0m eta \u001b[36m0:00:00\u001b[0m\n",
      "\u001b[?25hInstalling collected packages: google-api-core, google-cloud-storage, google-cloud-bigquery\n",
      "\u001b[31mERROR: pip's dependency resolver does not currently take into account all the packages that are installed. This behaviour is the source of the following dependency conflicts.\n",
      "google-api-python-client 1.8.0 requires google-api-core<2dev,>=1.13.0, but you have google-api-core 2.19.0 which is incompatible.\n",
      "google-cloud-pubsub 2.21.1 requires grpcio<2.0dev,>=1.51.3, but you have grpcio 1.48.1 which is incompatible.\u001b[0m\u001b[31m\n",
      "\u001b[0mSuccessfully installed google-api-core-2.19.0 google-cloud-bigquery-3.23.0 google-cloud-storage-2.16.0\n",
      "Note: you may need to restart the kernel to use updated packages.\n"
     ]
    }
   ],
   "source": [
    "%pip install --upgrade --user google-cloud-aiplatform google-cloud-storage 'google-cloud-bigquery[pandas]'"
   ]
  },
  {
   "cell_type": "markdown",
   "metadata": {
    "id": "R5Xep4W9lq-Z"
   },
   "source": [
    "### Restart current runtime\n",
    "\n",
    "To use the newly installed packages in this Jupyter runtime, you must restart the runtime. You can do this by running the cell below, which will restart the current kernel."
   ]
  },
  {
   "cell_type": "code",
   "execution_count": 2,
   "metadata": {
    "colab": {
     "base_uri": "https://localhost:8080/"
    },
    "id": "XRvKdaPDTznN",
    "outputId": "154a71b5-f302-4f53-ed2f-b3e5fef9195b",
    "tags": []
   },
   "outputs": [
    {
     "data": {
      "text/plain": [
       "{'status': 'ok', 'restart': True}"
      ]
     },
     "execution_count": 2,
     "metadata": {},
     "output_type": "execute_result"
    }
   ],
   "source": [
    "# Restart kernel after installs so that your environment can access the new packages\n",
    "import IPython\n",
    "\n",
    "app = IPython.Application.instance()\n",
    "app.kernel.do_shutdown(True)"
   ]
  },
  {
   "cell_type": "markdown",
   "metadata": {
    "id": "SbmM4z7FOBpM"
   },
   "source": [
    "<div class=\"alert alert-block alert-warning\">\n",
    "<b>⚠️ The kernel is going to restart. Please wait until it is finished before continuing to the next step. ⚠️</b>\n",
    "</div>\n",
    "\n"
   ]
  },
  {
   "cell_type": "markdown",
   "metadata": {
    "id": "nCoTvkOJoh76"
   },
   "source": [
    "### Environment variables\n",
    "\n",
    "Sets environment variables. If asked, please replace the following `[your-project-id]` with your project ID and run it."
   ]
  },
  {
   "cell_type": "code",
   "execution_count": 1,
   "metadata": {
    "id": "fkmvFRrj3nQI",
    "tags": []
   },
   "outputs": [],
   "source": [
    "# get project ID\n",
    "PROJECT_ID = ! gcloud config get project\n",
    "PROJECT_ID = PROJECT_ID[0]\n",
    "LOCATION = \"us-central1\"\n",
    "if PROJECT_ID == \"(unset)\":\n",
    "    print(f\"Please set the project ID manually below\")"
   ]
  },
  {
   "cell_type": "code",
   "execution_count": 2,
   "metadata": {
    "id": "69XJ95rNoYG9",
    "tags": []
   },
   "outputs": [],
   "source": [
    "# define project information\n",
    "if PROJECT_ID == \"(unset)\":\n",
    "    PROJECT_ID = \"qwiklabs-gcp-01-70f9bf7a75d0\"  # @param {type:\"string\"}\n",
    "\n",
    "# generate an unique id for this session\n",
    "from datetime import datetime\n",
    "\n",
    "UID = datetime.now().strftime(\"%m%d%H%M\")"
   ]
  },
  {
   "cell_type": "markdown",
   "metadata": {
    "id": "ph7mDSMRVTIZ"
   },
   "source": [
    "### Authentication (Colab only)\n",
    "\n",
    "If you are running this notebook on Colab, you will need to run the following cell authentication. This step is not required if you are using Vertex AI Workbench as it is pre-authenticated."
   ]
  },
  {
   "cell_type": "code",
   "execution_count": 3,
   "metadata": {
    "id": "5jQkFtlimNXR",
    "tags": []
   },
   "outputs": [],
   "source": [
    "import sys\n",
    "\n",
    "# if it's Colab runtime, authenticate the user with Google Cloud\n",
    "if \"google.colab\" in sys.modules:\n",
    "    from google.colab import auth\n",
    "\n",
    "    auth.authenticate_user()"
   ]
  },
  {
   "cell_type": "markdown",
   "metadata": {
    "id": "jUPbl4IFLmC2"
   },
   "source": [
    "### Enable APIs\n",
    "\n",
    "Run the following to enable APIs for Compute Engine, Vertex AI, Cloud Storage and BigQuery with this Google Cloud project."
   ]
  },
  {
   "cell_type": "code",
   "execution_count": 4,
   "metadata": {
    "id": "qGf0qMMQNond",
    "tags": []
   },
   "outputs": [
    {
     "name": "stdout",
     "output_type": "stream",
     "text": [
      "Operation \"operations/acat.p2-728823475164-d3641667-f6e8-42f4-8c75-f469a4cacd03\" finished successfully.\n"
     ]
    }
   ],
   "source": [
    "! gcloud services enable compute.googleapis.com aiplatform.googleapis.com storage.googleapis.com bigquery.googleapis.com --project {PROJECT_ID}"
   ]
  },
  {
   "cell_type": "markdown",
   "metadata": {
    "id": "8cF8rkN3Lnhq"
   },
   "source": [
    "### Set IAM permissions\n",
    "\n",
    "Also, we need to add access permissions to the default service account for using those services.\n",
    "\n",
    "- Go to [the IAM page](https://console.cloud.google.com/iam-admin/) in the Console\n",
    "- Look for the principal for default compute service account. It should look like: `<project-number>-compute@developer.gserviceaccount.com`\n",
    "- Click the edit button at right and click `ADD ANOTHER ROLE` to add `Vertex AI User`, `BigQuery User` and `Storage Admin` to the account.\n",
    "\n",
    "This will look like this:\n",
    "\n",
    "![](https://storage.googleapis.com/github-repo/img/embeddings/vs-quickstart/iam-setting.png)"
   ]
  },
  {
   "cell_type": "markdown",
   "metadata": {
    "id": "mahCxLXHMIls"
   },
   "source": [
    "## Getting Started with Vertex AI Embeddings for Text\n",
    "\n",
    "Now it's ready to get started with embeddings!"
   ]
  },
  {
   "cell_type": "markdown",
   "metadata": {
    "id": "rq07_-o0VoZD"
   },
   "source": [
    "### Data Preparation\n",
    "\n",
    "We will be using [the Stack Overflow public dataset](https://console.cloud.google.com/marketplace/product/stack-exchange/stack-overflow) hosted on BigQuery table `bigquery-public-data.stackoverflow.posts_questions`. This is a very big dataset with 23 million rows that doesn't fit into the memory. We are going to limit it to 1000 rows for this tutorial."
   ]
  },
  {
   "cell_type": "code",
   "execution_count": 5,
   "metadata": {
    "id": "snrzPsEQDH4S",
    "tags": []
   },
   "outputs": [
    {
     "name": "stderr",
     "output_type": "stream",
     "text": [
      "/home/jupyter/.local/lib/python3.10/site-packages/google/cloud/bigquery/table.py:2295: UserWarning: Unable to represent RANGE schema as struct using pandas ArrowDtype. Using `object` instead. To use ArrowDtype, use pandas >= 1.5 and pyarrow >= 10.0.1.\n",
      "  warnings.warn(_RANGE_PYARROW_WARNING)\n",
      "/home/jupyter/.local/lib/python3.10/site-packages/google/cloud/bigquery/table.py:2309: UserWarning: Unable to represent RANGE schema as struct using pandas ArrowDtype. Using `object` instead. To use ArrowDtype, use pandas >= 1.5 and pyarrow >= 10.0.1.\n",
      "  warnings.warn(_RANGE_PYARROW_WARNING)\n",
      "/home/jupyter/.local/lib/python3.10/site-packages/google/cloud/bigquery/table.py:2323: UserWarning: Unable to represent RANGE schema as struct using pandas ArrowDtype. Using `object` instead. To use ArrowDtype, use pandas >= 1.5 and pyarrow >= 10.0.1.\n",
      "  warnings.warn(_RANGE_PYARROW_WARNING)\n"
     ]
    },
    {
     "data": {
      "text/html": [
       "<div>\n",
       "<style scoped>\n",
       "    .dataframe tbody tr th:only-of-type {\n",
       "        vertical-align: middle;\n",
       "    }\n",
       "\n",
       "    .dataframe tbody tr th {\n",
       "        vertical-align: top;\n",
       "    }\n",
       "\n",
       "    .dataframe thead th {\n",
       "        text-align: right;\n",
       "    }\n",
       "</style>\n",
       "<table border=\"1\" class=\"dataframe\">\n",
       "  <thead>\n",
       "    <tr style=\"text-align: right;\">\n",
       "      <th></th>\n",
       "      <th>id</th>\n",
       "      <th>title</th>\n",
       "    </tr>\n",
       "  </thead>\n",
       "  <tbody>\n",
       "    <tr>\n",
       "      <th>0</th>\n",
       "      <td>64281455</td>\n",
       "      <td>How to load external script on click (after pa...</td>\n",
       "    </tr>\n",
       "    <tr>\n",
       "      <th>1</th>\n",
       "      <td>64421191</td>\n",
       "      <td>Best practice when sharing data/models between...</td>\n",
       "    </tr>\n",
       "    <tr>\n",
       "      <th>2</th>\n",
       "      <td>64547443</td>\n",
       "      <td>Tcl:Is there a way to show which line in tcl t...</td>\n",
       "    </tr>\n",
       "    <tr>\n",
       "      <th>3</th>\n",
       "      <td>64345717</td>\n",
       "      <td>Loop by array and union looped result in BigQuery</td>\n",
       "    </tr>\n",
       "    <tr>\n",
       "      <th>4</th>\n",
       "      <td>64463938</td>\n",
       "      <td>How to Deserialize Avro message coming from Ev...</td>\n",
       "    </tr>\n",
       "  </tbody>\n",
       "</table>\n",
       "</div>"
      ],
      "text/plain": [
       "         id                                              title\n",
       "0  64281455  How to load external script on click (after pa...\n",
       "1  64421191  Best practice when sharing data/models between...\n",
       "2  64547443  Tcl:Is there a way to show which line in tcl t...\n",
       "3  64345717  Loop by array and union looped result in BigQuery\n",
       "4  64463938  How to Deserialize Avro message coming from Ev..."
      ]
     },
     "execution_count": 5,
     "metadata": {},
     "output_type": "execute_result"
    }
   ],
   "source": [
    "# load the BQ Table into a Pandas Dataframe\n",
    "import pandas as pd\n",
    "from google.cloud import bigquery\n",
    "\n",
    "QUESTIONS_SIZE = 1000\n",
    "\n",
    "bq_client = bigquery.Client(project=PROJECT_ID)\n",
    "QUERY_TEMPLATE = \"\"\"\n",
    "        SELECT distinct q.id, q.title\n",
    "        FROM (SELECT * FROM `bigquery-public-data.stackoverflow.posts_questions`\n",
    "        where Score > 0 ORDER BY View_Count desc) AS q\n",
    "        LIMIT {limit} ;\n",
    "        \"\"\"\n",
    "query = QUERY_TEMPLATE.format(limit=QUESTIONS_SIZE)\n",
    "query_job = bq_client.query(query)\n",
    "rows = query_job.result()\n",
    "df = rows.to_dataframe()\n",
    "\n",
    "# examine the data\n",
    "df.head()"
   ]
  },
  {
   "cell_type": "markdown",
   "metadata": {
    "id": "j6022U1FWzpb"
   },
   "source": [
    "### Call the API to generate embeddings\n",
    "\n",
    "With the Stack Overflow dataset, we will use the `title` column (the question title) and generate embedding for it with Embeddings for Text API. The API is available under the [vertexai](https://cloud.google.com/python/docs/reference/aiplatform/latest/vertexai) package of the SDK.\n",
    "\n",
    "You may see some warning messages from the TensorFlow library but you can ignore them."
   ]
  },
  {
   "cell_type": "code",
   "execution_count": 6,
   "metadata": {
    "id": "pY8M4DqO8wGx",
    "tags": []
   },
   "outputs": [],
   "source": [
    "# init the vertexai package\n",
    "import vertexai\n",
    "\n",
    "vertexai.init(project=PROJECT_ID, location=LOCATION)"
   ]
  },
  {
   "cell_type": "markdown",
   "metadata": {
    "id": "jrG82n-y-EC5"
   },
   "source": [
    "From the package, import [TextEmbeddingModel](https://cloud.google.com/python/docs/reference/aiplatform/latest/vertexai.language_models.TextEmbeddingModel) and get a model."
   ]
  },
  {
   "cell_type": "code",
   "execution_count": 7,
   "metadata": {
    "id": "YVLHjSeOGoTu",
    "tags": []
   },
   "outputs": [],
   "source": [
    "# Load the text embeddings model\n",
    "from vertexai.preview.language_models import TextEmbeddingModel\n",
    "\n",
    "model = TextEmbeddingModel.from_pretrained(\"textembedding-gecko@001\")"
   ]
  },
  {
   "cell_type": "markdown",
   "metadata": {
    "id": "FqdVsgZDb_hc"
   },
   "source": [
    "In this tutorial we will use `textembedding-gecko@001` model for getting text embeddings. Please take a look at [Supported models](https://cloud.google.com/vertex-ai/docs/generative-ai/embeddings/get-text-embeddings#supported_models) on the doc to see the list of supported models.\n",
    "\n",
    "Once you get the model, you can call its [get_embeddings](https://cloud.google.com/python/docs/reference/aiplatform/latest/vertexai.language_models.TextEmbeddingModel#vertexai_language_models_TextEmbeddingModel_get_embeddings) function to get embeddings. You can pass up to 5 texts at once in a call. But there is a caveat. By default, the text embeddings API has a \"request per minute\" quota set to 60 for new Cloud projects and 600 for projects with usage history (see [Quotas and limits](https://cloud.google.com/vertex-ai/docs/quotas#request_quotas) to check the latest quota value for `base_model:textembedding-gecko`). So, rather than using the function directly, you may want to define a wrapper like below to limit under 10 calls per second, and pass 5 texts each time."
   ]
  },
  {
   "cell_type": "code",
   "execution_count": 8,
   "metadata": {
    "id": "8HUb9u_P2VWW",
    "tags": []
   },
   "outputs": [],
   "source": [
    "import time\n",
    "import tqdm  # to show a progress bar\n",
    "\n",
    "# get embeddings for a list of texts\n",
    "BATCH_SIZE = 5\n",
    "\n",
    "\n",
    "def get_embeddings_wrapper(texts):\n",
    "    embs = []\n",
    "    for i in tqdm.tqdm(range(0, len(texts), BATCH_SIZE)):\n",
    "        time.sleep(1)  # to avoid the quota error\n",
    "        result = model.get_embeddings(texts[i : i + BATCH_SIZE])\n",
    "        embs = embs + [e.values for e in result]\n",
    "    return embs"
   ]
  },
  {
   "cell_type": "markdown",
   "metadata": {
    "id": "aK4eTSPfcEuh"
   },
   "source": [
    "The following code will get embedding for the question titles and add them as a new column `embedding` to the DataFrame. This will take a few minutes."
   ]
  },
  {
   "cell_type": "code",
   "execution_count": 9,
   "metadata": {
    "id": "FcqPvu4PluN1",
    "tags": []
   },
   "outputs": [
    {
     "name": "stderr",
     "output_type": "stream",
     "text": [
      "100%|██████████| 200/200 [03:51<00:00,  1.16s/it]\n"
     ]
    },
    {
     "data": {
      "text/html": [
       "<div>\n",
       "<style scoped>\n",
       "    .dataframe tbody tr th:only-of-type {\n",
       "        vertical-align: middle;\n",
       "    }\n",
       "\n",
       "    .dataframe tbody tr th {\n",
       "        vertical-align: top;\n",
       "    }\n",
       "\n",
       "    .dataframe thead th {\n",
       "        text-align: right;\n",
       "    }\n",
       "</style>\n",
       "<table border=\"1\" class=\"dataframe\">\n",
       "  <thead>\n",
       "    <tr style=\"text-align: right;\">\n",
       "      <th></th>\n",
       "      <th>id</th>\n",
       "      <th>title</th>\n",
       "      <th>embedding</th>\n",
       "    </tr>\n",
       "  </thead>\n",
       "  <tbody>\n",
       "    <tr>\n",
       "      <th>0</th>\n",
       "      <td>64281455</td>\n",
       "      <td>How to load external script on click (after pa...</td>\n",
       "      <td>[-0.022453324869275093, 0.02202790230512619, 0...</td>\n",
       "    </tr>\n",
       "    <tr>\n",
       "      <th>1</th>\n",
       "      <td>64421191</td>\n",
       "      <td>Best practice when sharing data/models between...</td>\n",
       "      <td>[-0.05436195060610771, -0.03935007005929947, 0...</td>\n",
       "    </tr>\n",
       "    <tr>\n",
       "      <th>2</th>\n",
       "      <td>64547443</td>\n",
       "      <td>Tcl:Is there a way to show which line in tcl t...</td>\n",
       "      <td>[-0.019004419445991516, 0.013172624632716179, ...</td>\n",
       "    </tr>\n",
       "    <tr>\n",
       "      <th>3</th>\n",
       "      <td>64345717</td>\n",
       "      <td>Loop by array and union looped result in BigQuery</td>\n",
       "      <td>[-0.05198134854435921, -0.0016308536287397146,...</td>\n",
       "    </tr>\n",
       "    <tr>\n",
       "      <th>4</th>\n",
       "      <td>64463938</td>\n",
       "      <td>How to Deserialize Avro message coming from Ev...</td>\n",
       "      <td>[-0.021974656730890274, -0.008993128314614296,...</td>\n",
       "    </tr>\n",
       "  </tbody>\n",
       "</table>\n",
       "</div>"
      ],
      "text/plain": [
       "         id                                              title  \\\n",
       "0  64281455  How to load external script on click (after pa...   \n",
       "1  64421191  Best practice when sharing data/models between...   \n",
       "2  64547443  Tcl:Is there a way to show which line in tcl t...   \n",
       "3  64345717  Loop by array and union looped result in BigQuery   \n",
       "4  64463938  How to Deserialize Avro message coming from Ev...   \n",
       "\n",
       "                                           embedding  \n",
       "0  [-0.022453324869275093, 0.02202790230512619, 0...  \n",
       "1  [-0.05436195060610771, -0.03935007005929947, 0...  \n",
       "2  [-0.019004419445991516, 0.013172624632716179, ...  \n",
       "3  [-0.05198134854435921, -0.0016308536287397146,...  \n",
       "4  [-0.021974656730890274, -0.008993128314614296,...  "
      ]
     },
     "execution_count": 9,
     "metadata": {},
     "output_type": "execute_result"
    }
   ],
   "source": [
    "# get embeddings for the question titles and add them as \"embedding\" column\n",
    "df = df.assign(embedding=get_embeddings_wrapper(list(df.title)))\n",
    "df.head()"
   ]
  },
  {
   "cell_type": "markdown",
   "metadata": {
    "id": "nB53SiJjVN6e"
   },
   "source": [
    "## Look at the embedding similarities\n",
    "\n",
    "Let's see how these embeddings are organized in the embedding space with their meanings by quickly calculating the similarities between them and sorting them.\n",
    "\n",
    "As embeddings are vectors, you can calculate similarity between two embeddings by using one of the popular metrics like the followings:\n",
    "\n",
    "![](https://storage.googleapis.com/github-repo/img/embeddings/textemb-vs-notebook/8.png)\n",
    "\n",
    "Which metric should we use? Usually it depends on how each model is trained. In case of the model `textembedding-gecko@001`, we need to use inner product (dot product).\n",
    "\n",
    "In the following code, it picks up one question randomly and uses the numpy `np.dot` function to calculate the similarities between the question and other questions."
   ]
  },
  {
   "cell_type": "code",
   "execution_count": 10,
   "metadata": {
    "id": "lKs6jSu7NiM6",
    "tags": []
   },
   "outputs": [
    {
     "data": {
      "text/plain": [
       "array([0.53229081, 0.48062814, 0.58299478, 0.43910682, 0.5310981 ])"
      ]
     },
     "execution_count": 10,
     "metadata": {},
     "output_type": "execute_result"
    }
   ],
   "source": [
    "import random\n",
    "import numpy as np\n",
    "\n",
    "# pick one of them as a key question\n",
    "key = random.randint(0, len(df))\n",
    "\n",
    "# calc dot product between the key and other questions\n",
    "embs = np.array(df.embedding.to_list())\n",
    "similarities = np.dot(embs[key], embs.T)\n",
    "\n",
    "# print similarities for the first 5 questions\n",
    "similarities[:5]"
   ]
  },
  {
   "cell_type": "markdown",
   "metadata": {
    "id": "srM04lJBQp4w"
   },
   "source": [
    "Finally, sort the questions with the similarities and print the list."
   ]
  },
  {
   "cell_type": "code",
   "execution_count": 11,
   "metadata": {
    "id": "lTUVvj9FQlab",
    "tags": []
   },
   "outputs": [
    {
     "name": "stdout",
     "output_type": "stream",
     "text": [
      "Key question: What to do if the object is destroyed during the call in C++\n",
      "\n",
      "1.0000 What to do if the object is destroyed during the call in C++\n",
      "0.6555 Trying to diagnose difference between C++ standard for-loop and accumulate with side effects\n",
      "0.6458 How to call a different function, depending on a value inside a v-on callback\n",
      "0.6400 When event looping is blocking the application from I/O actions?\n",
      "0.6385 Error unhandled exeption [177] Stack Overflow\n",
      "0.6358 terminate childprocess.exec after x second\n",
      "0.6273 Android native crash: Could not write wake signal to fd\n",
      "0.6212 Terminating app due to uncaught exception 'NSInvalidArgumentException', reason: '-[__NSCFBoolean length]\n",
      "0.6186 Managed workflow Expo 38 - java.lang.NullPointerException on Android in production\n",
      "0.6143 How to add complex types to a specific function\n",
      "0.6131 c++ std::intializer_list and constructor\n",
      "0.6118 Why request.GET.get('tag', '') returns C rather than C++ in django GET request?\n",
      "0.6114 How do I make the program roll the previous number of dice by just clicking enter?\n",
      "0.6108 Failed to invoke procedure `apoc.cypher.mapParallel2`: Caused by: java.lang.RuntimeException: Error polling, timeout of 10 seconds reached\n",
      "0.6104 AudioKit AKMetronome silence current beat inside callback?\n",
      "0.6102 inter-process communication between linux and dotnet using mkfifo\n",
      "0.6087 retrofit enqueue stop and exit suddenly\n",
      "0.6077 Contact_level__c doesn't exist\n",
      "0.6072 Spring boot JMS DefaultListenerContainer occasionally drops connection and not autorevocered with Tibco EMS\n",
      "0.6068 problem in dictionary items ,they are not saved\n"
     ]
    }
   ],
   "source": [
    "# print the question\n",
    "print(f\"Key question: {df.title[key]}\\n\")\n",
    "\n",
    "# sort and print the questions by similarities\n",
    "sorted_questions = sorted(\n",
    "    zip(df.title, similarities), key=lambda x: x[1], reverse=True\n",
    ")[:20]\n",
    "for i, (question, similarity) in enumerate(sorted_questions):\n",
    "    print(f\"{similarity:.4f} {question}\")"
   ]
  },
  {
   "cell_type": "markdown",
   "metadata": {
    "id": "S75SQzAg1wHV"
   },
   "source": [
    "# Find embeddings fast with Vertex AI Vector Search\n",
    "\n",
    "As we have explained above, you can find similar embeddings by calculating the distance or similarity between the embeddings.\n",
    "\n",
    "But this isn't easy when you have millions or billions of embeddings. For example, if you have 1 million embeddings with 768 dimensions, you need to repeat the distance calculations for 1 million x 768 times. This would take some seconds - too slow."
   ]
  },
  {
   "cell_type": "markdown",
   "metadata": {
    "id": "0sjhTy-a47YH"
   },
   "source": [
    "So the researchers have been studying a technique called [Approximate Nearest Neighbor (ANN)](https://en.wikipedia.org/wiki/Nearest_neighbor_search) for faster search. ANN uses \"vector quantization\" for separating the space into multiple spaces with a tree structure. This is similar to the index in relational databases for improving the query performance, enabling very fast and scalable search with billions of embeddings.\n",
    "\n",
    "With the rise of LLMs, the ANN is getting popular quite rapidly, known as the Vector Search technology.\n",
    "\n",
    "![](https://storage.googleapis.com/gweb-cloudblog-publish/images/7._ANN.1143068821171228.max-2200x2200.png)\n",
    "\n",
    "In 2020, Google Research published a new ANN algorithm called [ScaNN](https://ai.googleblog.com/2020/07/announcing-scann-efficient-vector.html). It is considered one of the best ANN algorithms in the industry, also the most important foundation for search and recommendation in major Google services such as Google Search, YouTube and many others.\n"
   ]
  },
  {
   "cell_type": "markdown",
   "metadata": {
    "id": "xVOL8BgM2isz"
   },
   "source": [
    "## What is Vertex AI Vector Search?\n",
    "\n",
    "Google Cloud developers can take the full advantage of Google's vector search technology with [Vertex AI Vector Search](https://cloud.google.com/vertex-ai/docs/vector-search/overview) (previously called Matching Engine). With this fully managed service, developers can just add the embeddings to its index and issue a search query with a key embedding for the blazingly fast vector search. In the case of the Stack Overflow demo, Vector Search can find relevant questions from 8 million embeddings in tens of milliseconds.\n",
    "\n",
    "![](https://storage.googleapis.com/github-repo/img/embeddings/textemb-vs-notebook/9.png)\n",
    "\n",
    "With Vector Search, you don't need to spend much time and money building your own vector search service from scratch or using open source tools if your goal is high scalability, availability and maintainability for production systems."
   ]
  },
  {
   "cell_type": "markdown",
   "metadata": {
    "id": "uBt8tjidSzyU"
   },
   "source": [
    "## Get Started with Vector Search\n",
    "\n",
    "When you already have the embeddings, then getting started with Vector Search is pretty easy. In this section, we will follow the steps below.\n",
    "\n",
    "### Setting up Vector Search\n",
    "- Save the embeddings in JSON files on Cloud Storage\n",
    "- Build an Index\n",
    "- Create an Index Endpoint\n",
    "- Deploy the Index to the endpoint\n",
    "\n",
    "### Use Vector Search\n",
    "\n",
    "- Query with the endpoint\n",
    "\n",
    "### **Tip for Colab users**\n",
    "\n",
    "If you use Colab for this tutorial, you may lose your runtime while you are waiting for the Index building and deployment in the later sections as it takes tens of minutes. In that case, run the following sections again with the new instance to recover the runtime: [Install Python SDK, Environment variables and Authentication](https://colab.research.google.com/drive/1xJhLFEyPqW0qvKiERD6aYgeTHa6_U50N?resourcekey=0-2qUkxckCjt6W03AsqvZHhw#scrollTo=AtXnXhF8U-8R&line=9&uniqifier=1).\n",
    "\n",
    "Then, use the [Utilities](https://colab.research.google.com/drive/1xJhLFEyPqW0qvKiERD6aYgeTHa6_U50N?resourcekey=0-2qUkxckCjt6W03AsqvZHhw#scrollTo=BE1tELsH-u8N&line=1&uniqifier=1) to recover the Index and Index Endpoint and continute with the rest."
   ]
  },
  {
   "cell_type": "markdown",
   "metadata": {
    "id": "6pu1a3zjfQ0D"
   },
   "source": [
    "### Save the embeddings in a JSON file\n",
    "To load the embeddings to Vector Search, we need to save them in JSON files with JSONL format. See more information in the docs at [Input data format and structure](https://cloud.google.com/vertex-ai/docs/matching-engine/match-eng-setup/format-structure#data-file-formats).\n",
    "\n",
    "First, export the `id` and `embedding` columns from the DataFrame in JSONL format, and save it."
   ]
  },
  {
   "cell_type": "code",
   "execution_count": 12,
   "metadata": {
    "id": "GzZ30d4j_uLU",
    "tags": []
   },
   "outputs": [
    {
     "name": "stdout",
     "output_type": "stream",
     "text": [
      "{\"id\":64281455,\"embedding\":[-0.0224533249,0.0220279023,0.0292706676,0.0755602121,0.036277499,-0.0272963215,0.0450097136,0.0149669359,0.0006215806,0.031652391,-0.0285084974,0.068527095,-0.0115548708,-0.0255682357,0.0111909015,0.0148557825,-0.0266535282,-0.0005954463,0.0130523965,0.0450387932,-0.1114417017,0.0030549641,0.0114127398,-0.0209507979,0.0105754519,-0.0886496305,0.0312162433,0.0123679889,0.012879706,-0.0009485866,-0.0311488733,0.0378686301,-0.0073558469,-0.0312798955,0.0193417314,0.0643530563,-0.0085221091,0.0418827832,0.0113019068,0.0381355658,-0.0376234986,-0.0483322591,0.0423826575,0.0085594039,-0.0093572075,-0.012906719,-0.0312139094,-0.0210561082,-0.0424876958,-0.0389158279,-0.0058595738,-0.052558288,0.016007103,-0.0079448316,-0.0237836819,0.0446272194,-0.0387862884,-0.0335206091,-0.027009815,-0.0435933322,-0.0248648878,0.0047116778,0.0035058584,-0.0164398886,0.0043443637,0.0703574866,0.0098191071,-0.0124977129,0.0096432287,-0.0173014887,0.0101087987,0.0498432815,0.0334459245,-0.0027574627,0.0394606255,-0.0248061996,-0.0402196795,0.0370838009,0.0718252957,-0.0753677264,-0.0875565186,-0.0466425382,0.0093244668,-0.1127540171,-0.0711385086,0.0626121461,-0.0065504173,0.0389148183,-0.0277333464,0.0140294135,-0.0456802249,0.0414408296,-0.0126868719,0.00144979,-0.0478774831,-0.0258369222,-0.0273663197,-0.0313385315,-0.0186782591,-0.0140773142,-0.0255043395,0.0105301319,0.0499745794,-0.0086512184,0.0532784164,-0.0527026914,-0.0772139132,0.0407991894,-0.0132835545,-0.02085598,-0.0666461736,0.0289103258,-0.0324404426,0.0156435035,0.0176817067,-0.0376246907,0.007205456,0.0125648808,0.0341920331,0.020134531,-0.0256491378,-0.0122753913,0.006435303,0.0504031666,0.0037603572,0.0031068523,-0.0034968485,-0.0338755772,0.0230568163,0.0156493876,0.0685721114,0.0031654551,0.0573668219,0.0000581483,0.0235895272,0.0561693087,0.0189068634,-0.0021715665,0.0761554912,-0.0092303716,-0.0165509675,0.0270759799,-0.0367760807,0.0029704191,-0.0237318035,0.0025977949,-0.0336762629,-0.0039117252,-0.0449001752,0.0152076222,-0.0089777755,-0.0230012443,-0.000907146,0.0199218951,0.0101985531,0.0413285233,0.036441382,0.0256005153,0.0100841457,-0.0737996623,0.0189615916,-0.0138800349,0.0371345803,-0.0005269108,0.0356706381,0.0399544127,-0.0220784098,-0.0313008316,0.0063585457,0.0370643921,0.0488817804,-0.0865230262,0.0181794651,-0.0513936467,0.0312301088,-0.0251469035,0.0220550168,0.0071335449,0.006791905,-0.0117151113,-0.0096493764,-0.0549273975,-0.0018925269,0.0100094425,-0.0583731756,0.0265396871,0.0098192142,0.0216205176,-0.0294422619,0.0626840517,-0.0260977298,0.0160203483,0.0090205669,-0.1044145897,-0.0943845958,0.0373144783,0.0242726132,-0.1684662998,-0.0273998138,-0.0021569144,-0.0741742924,-0.0245004669,0.0098209241,0.0164604038,0.0017862166,0.0103087332,-0.0414917469,0.0296788812,0.0434258245,0.0047397842,0.0087855915,0.0026654946,0.0509982519,-0.0001690133,-0.0217491649,-0.0165192243,0.0294648614,-0.0372645333,-0.0368754677,0.0579665788,-0.0428823531,-0.0159394685,0.0323346443,-0.0157100819,-0.0148794716,0.0144100366,0.0303389672,0.0363701023,0.012660305,0.0111537809,-0.0574921705,-0.0415792242,-0.0654689893,0.0136892851,-0.0178024713,0.044938121,-0.0258962717,0.0412231945,-0.0658927485,0.0320041887,-0.00482659,0.1046530381,-0.0146350581,0.0103453267,0.0043029445,-0.0074792285,0.0241146255,0.0388939008,0.0298435763,-0.0055825454,0.0200967807,-0.0520968772,-0.0185870901,0.0289324336,0.0194260888,-0.0154287517,-0.02835848,0.0415177345,0.0031097273,0.0178605616,-0.0049299519,0.0024654523,0.0215427447,0.1257718056,0.0012926345,0.0126351984,-0.0608232021,-0.0523524433,0.0695134103,-0.0665827394,-0.0090892334,-0.0734082311,0.0074660876,0.0418280326,-0.0316995345,0.0141975507,-0.0032304842,0.0565177649,0.0207167305,0.0520209558,0.0186964273,-0.0200494733,0.0252759755,-0.0408487394,-0.0232631788,-0.0064247679,-0.0063590817,0.0516253971,-0.0475760028,-0.0127312178,-0.0008958274,-0.0047887233,0.0222876612,0.0597728975,-0.007856953,-0.0267784912,0.0704666898,0.0124938916,-0.0390678495,0.0008497634,-0.0607807934,-0.0162175074,0.0421546511,-0.0104375621,0.0073060491,-0.0064091445,0.0194981545,-0.0404481031,0.0617356822,-0.0007829689,-0.0126700206,-0.050955452,0.0364610851,0.0113121523,-0.0019801443,0.0338984355,-0.0058678798,-0.0769178569,-0.0494777225,0.0753334314,-0.0474680923,0.0350568965,-0.0066735167,-0.0091812024,-0.0029546015,-0.0169648547,0.047590889,0.0042773667,0.0695169643,-0.0167504679,-0.00812151,0.0082432479,-0.0296255387,0.0271518864,-0.0219719559,-0.0338942036,-0.0227311999,0.0206418522,-0.0040650708,-0.0423611403,0.0463352911,-0.0099486597,-0.0391673185,0.0017289468,-0.0242791381,0.0136597967,-0.0483882762,-0.0198342614,-0.0097514447,-0.0969320163,0.0014406663,0.0493236892,0.008202171,0.0228663534,0.0371485092,0.0531476922,-0.0132755581,0.0077521573,0.0265279561,-0.0519455522,-0.0328699276,-0.0370394588,-0.0900580734,-0.0020091576,0.0201713294,0.0307362955,0.0565703325,0.0473010503,0.0323071331,-0.0082541136,-0.0111013157,-0.0101962006,0.0184515771,-0.0409754477,-0.0354657806,-0.0219735336,-0.0574626029,0.0422280468,-0.0262923054,0.0093484707,-0.0305997711,-0.0490225255,0.0001503126,0.0291054137,-0.0092733921,-0.0236617848,0.0279062316,0.0106918495,0.0055225007,-0.0092202546,0.0647897273,0.038293086,-0.0002233525,-0.010653656,0.0045418506,0.0753352344,-0.0184849743,-0.0232061632,0.0006908927,-0.0313768461,0.0535767227,0.0378233865,-0.0229172483,-0.0267570466,0.0293284878,0.0353605822,-0.0141228437,0.0207366589,0.0060911477,-0.035864681,-0.0393300317,-0.003328179,0.0060939337,-0.0092664817,0.0441887639,-0.0049749208,-0.0357289687,-0.0626088157,-0.0265406352,0.0309091676,0.0461490788,0.0013343049,-0.0820745379,0.0017816629,-0.0023469573,-0.027955642,-0.0481691957,0.0424743183,-0.0202277265,-0.0145403417,-0.0452878848,0.0521128736,-0.0359840132,-0.0593530871,-0.0360521413,-0.0433744341,0.0764792189,0.1092292741,0.0273694564,0.0066076312,-0.0271187667,-0.0190952253,-0.0388758108,0.0022558065,0.017776994,-0.0049455119,0.0093660029,-0.0185434688,-0.0115928212,-0.0120459422,-0.0257582963,-0.0007363577,0.0086173732,0.0575325377,-0.0299882125,0.0371323638,-0.0369147845,0.0061899442,0.0274763051,0.0152315693,-0.0165681075,-0.0054543107,-0.0384606533,0.0154402722,0.0032356828,-0.0332028046,-0.0018907625,0.0596236251,0.01448947,-0.0028123143,-0.0286736917,0.0544896945,-0.0221014246,-0.0453284383,0.038981352,-0.0263344385,0.0492269695,0.0107090296,-0.0316866562,-0.0153031638,-0.0554901026,-0.0318240523,-0.0274667069,0.0373694561,-0.013521513,0.012706046,-0.0109463539,-0.0308724903,0.028810339,0.0048794351,0.0364803486,-0.0076427837,0.0365933254,-0.0201714151,0.0216563717,0.0072764563,-0.0061352244,0.0159856044,0.032731615,-0.0263075344,0.0196191054,0.0380741991,-0.0319923088,-0.0471840538,-0.0337565914,-0.0198739637,0.0090678046,-0.0429483727,-0.0377991796,-0.0182447117,0.0016239519,0.0439838469,-0.0034927658,-0.0366533659,-0.0163558349,-0.083669737,-0.0146698719,0.0507982671,-0.0331870504,-0.0264840759,0.007734586,-0.0270838719,-0.0573573187,-0.025878692,0.0486061759,0.0543697812,0.0399827845,0.0047391686,0.0089937812,-0.0134627307,0.0418943875,0.0620169453,0.0353421196,0.0308055561,0.0276748706,-0.0382168591,0.0332880355,-0.0032817954,0.0164355934,0.0731482804,0.0069332728,-0.046829015,0.0285815932,-0.0078577232,0.0168428142,0.0052057151,0.0139540257,-0.0176122896,0.0279677231,0.0198200569,0.0296563767,-0.0581729524,-0.0483327731,0.0350395031,-0.0100954575,-0.0543847196,0.0376780741,0.0093216877,-0.0147095686,-0.0511655845,-0.0068324055,0.014924231,-0.00405367,-0.0426499881,0.0305323806,0.0213372447,0.0293979924,0.0522361286,0.0081675863,0.0208277777,0.023122089,-0.0634725466,-0.0137641141,-0.0409585051,-0.0083739264,0.0245310888,0.0039918711,0.0364237651,-0.0028049748,-0.0227444861,-0.0032460182,0.0494922176,0.0276829209,0.0270016957,-0.0105094649,0.0538861044,0.0062050577,-0.032106258,-0.0328660458,0.0096359914,0.0212795455,-0.072716862,-0.018066952,0.0078902375,-0.0440235175,-0.0876435116,-0.0369411707,-0.0132796159,-0.050346341,0.0139785893,-0.0333724469,0.0334347673,0.0066189785,-0.035576459,0.0432684124,0.0048351381,0.0039061387,-0.0152930645,0.0226224381,0.0521112978,0.0199529491,-0.0039236285,0.0058179139,0.0042195763,-0.0137997363,-0.0204688199,-0.0177689176,0.015281653,0.0039704689,-0.0018746725,0.0330573581,-0.017473856,-0.0102288704,-0.0603730865,0.0249822326,-0.0384839103,0.0405511111,-0.0380728729,-0.0652412623,0.0058206795,-0.004575423,-0.0195020493,-0.0371557288,-0.0120473774,0.0532893836,-0.0928485021,0.0257033873,0.0558581315,0.0234720223,0.0110384952,0.0071741887,0.0170267783,0.0033802544,-0.0186716635,0.0166393202,-0.0090182023,0.022403365,-0.0541755669,-0.030428905,0.0098013263,0.0202266537,-0.0383765027,-0.0047666649,-0.0206513572,0.0035911892,-0.0238763839,0.058975324,0.0249691512,-0.0031100772,-0.0357614718,0.0128372954,0.0208826587,0.0140610691,0.0569114648,-0.067953445,0.0747150481,-0.0093768705,-0.0153984688,0.0077062361,-0.0007674299,-0.0286064614,-0.0429542139,0.0062524243,-0.0502900444,-0.0005325904,-0.0184473973,0.018774258,0.030540837,0.0572306439,-0.0125763882,-0.0800573379,-0.0014958812,-0.0208172668,-0.0088131567,0.0078586908,-0.0469460338,0.0142498324,-0.0351013057,0.008255261,-0.0211598091,0.028994048,0.0188232828,-0.0561399162,-0.0138253914,0.0604459755,-0.0409864336,-0.0135466792,-0.0350199379,-0.0091713481,0.0117249163,-0.0177032407,0.0363807678,0.0390367471,0.0617552288,0.0084759062,-0.0284212604,-0.0783040002,0.0281281509,0.0074253199,-0.0412245952,0.0200520288,-0.0585666113,0.0608993433,0.0287035629,0.0144223357,0.04581514,-0.0467277654,0.0318736583,0.0559861325,-0.0168848839,-0.0023959142,0.0180063602,0.0716699809,0.0201399885,-0.0413569734,0.0602614656,0.0285857022,-0.0353793949,0.0369626656,0.0126243802,0.0234666616,-0.0239556991,0.0049082241,0.0056287399,0.0019600531,0.0010247116,0.0861627683,0.0021362526,0.0193079337,-0.0005885339,0.0290481709,0.063185662,0.002364743,0.0185706839,0.0202760901,0.0374185368,-0.0321624242,-0.0237985551,-0.0121034263,-0.0597662926,-0.0495345145,-0.0195256006,0.061515633,-0.0081418976,0.0028756848,0.1107878909,0.0303920917,0.0488008671,0.0237580314,0.0501207411,0.0158888157,-0.0405468456,-0.0195171461,0.0245345794,-0.0038899493,-0.0319674686,-0.0411791466,-0.0063504498]}\n",
      "{\"id\":64421191,\"embedding\":[-0.0543619506,-0.0393500701,0.0281171501,0.0377623402,-0.0238243956,-0.0679792687,-0.0403528251,0.0122070974,0.0042749224,-0.01545077,0.0032144412,0.0160284266,0.0395177938,0.0293876044,-0.0038712269,-0.0070244786,-0.0800014362,-0.0116519202,0.0370713212,0.013263626,-0.051257357,-0.005625119,0.0056119701,-0.0295859016,0.016373653,-0.0807588324,0.0071719745,0.023824349,-0.013381483,0.0092133284,0.0115640992,-0.0035144696,-0.0525721088,-0.0406665318,0.0372063182,0.0339566544,-0.0222467966,0.0411330722,0.0130246216,-0.020340858,-0.0060291672,-0.0187532995,-0.014679702,0.0073078959,-0.045954898,0.0750305429,0.0067942832,0.0810282975,0.0421963558,-0.0854695886,-0.0148146907,-0.0002256929,-0.0092956508,0.0291809365,0.0076943962,0.0568297468,-0.0635605827,-0.0259837396,-0.0196718909,0.0167683978,0.0262345243,-0.022068793,-0.0070477594,-0.0415672958,0.0257001165,0.0029028428,0.0793104619,-0.0054653445,-0.0455128476,-0.0375261679,0.0116739189,-0.0045940666,0.0104127889,-0.0216629002,0.0130594801,0.0303993784,0.0136075132,0.0015414091,-0.0014970911,-0.028327236,-0.0321325734,0.000664571,-0.0414719693,-0.0516584851,-0.0232978798,0.0873012319,-0.0242569782,0.0029095518,-0.0105600031,0.005041996,0.0258192196,-0.0292263217,0.0106666815,0.0297342166,0.0016900679,0.0302864816,0.0168794971,0.0040787016,0.0210280381,0.0086878715,-0.0241631046,-0.0150697641,0.0471881591,-0.0308139622,0.0522905849,-0.0042506568,-0.0412292667,-0.0140692601,-0.0059983702,-0.1036867872,-0.0237919353,-0.0219486486,-0.061341878,0.0189704727,-0.0450085029,-0.050035838,0.0122951716,-0.0040402147,0.0109689189,-0.0048837904,-0.0083313463,0.0449556299,0.029223321,-0.021550741,0.03739262,0.0333424285,0.0529798903,0.0066823689,0.0376097262,-0.0134864934,-0.0003722103,0.0391477905,0.0082133021,-0.0099212416,0.0160503667,0.0483096689,0.0133090476,0.0046747592,-0.0099631017,0.0000581027,0.0011624324,-0.0161845032,0.0082817897,-0.0019514326,-0.0090384269,-0.0691253543,0.0446190275,-0.013896958,-0.0584165454,0.0192966163,0.017289117,0.0180594083,-0.0071435245,0.0065395245,0.0227666833,0.0062108664,0.0986786932,0.0094451597,-0.0037441947,-0.0831350684,-0.0417483412,-0.00418883,0.0071133128,0.0084024062,0.0293481071,0.0049437964,0.0217302162,-0.0186497699,0.0547445156,-0.0210726149,0.0569380075,-0.0636677742,0.0343763791,-0.0558088534,0.0207551289,-0.0018036073,-0.033349257,-0.0046527879,-0.0055740909,-0.034841489,0.00866553,-0.0358149298,0.0205351319,0.0067367251,-0.0711203516,-0.0158900544,-0.0145340748,-0.0046735131,-0.0103719356,0.0300384779,0.0149608906,-0.040353477,-0.0035584839,-0.0758359879,0.0132201649,-0.0014702039,0.0050996845,-0.1197137311,-0.0086652786,0.0109222094,-0.0182125438,-0.0091498345,0.0007860458,0.0313503109,-0.0232841838,-0.0027028164,-0.0410284027,-0.0075097587,0.0253877528,0.0320397951,-0.0224843565,-0.0296383705,0.034392722,-0.0111651951,0.0072768996,-0.067334801,0.0023140595,-0.0410959274,-0.0649984851,-0.0420699343,-0.0067020762,-0.0021284183,-0.0039627552,0.0045713247,-0.0175100453,0.0048206504,0.0294347275,0.0440656133,-0.000110768,0.023180645,-0.0050778859,0.018156087,-0.0068749059,-0.0299481563,-0.0564544983,0.0423473008,0.0246466305,-0.0127812121,-0.0650926977,-0.0003498966,0.0085668927,0.0770132169,-0.0181327518,0.0815585628,-0.0089400001,-0.0012837418,-0.0026416921,0.0050196755,-0.0054939603,0.0063867802,0.0627086088,-0.0223589949,-0.0084122317,0.0027954425,0.0127930446,0.0144922724,0.0049228985,0.0158043895,0.0139526231,-0.0261644404,-0.0201930571,0.0099774655,-0.0368990228,0.1108241752,-0.0085172392,-0.0022415959,0.0620249249,-0.0555278808,0.0065067271,-0.0453658849,-0.0204006303,-0.0183903649,0.0048201056,0.0426344126,-0.0352332033,0.0153063349,-0.0127894599,0.0210874677,0.0329966135,0.0413683206,-0.0049188999,-0.01261565,-0.0084632365,0.0077188336,-0.0170479231,0.0040230057,0.0068327659,-0.0071699889,-0.0352104865,-0.0292617027,0.0116854217,0.0454221405,0.0108141778,0.0311640613,0.0278324392,-0.0457080528,0.0269378219,0.0136510292,-0.0308773257,0.042784784,-0.0703801066,-0.0142766675,0.0157862101,-0.0127841234,-0.0419919975,-0.0299476068,0.0334875435,0.0177882314,-0.005787693,0.0126404036,0.0301978532,-0.0014832921,0.046487011,-0.0231956374,-0.0099112904,-0.0705264509,-0.0198480003,-0.0242903326,-0.0487789437,0.0168471895,0.042898301,-0.0273792092,0.0641171485,0.0181737542,-0.0010706719,-0.0372749045,0.0221852474,0.0324429534,0.0719124824,-0.006164575,-0.0431815535,-0.071860522,-0.0120847765,-0.039224647,0.0192149431,0.0090928311,-0.0112754982,0.0044353488,0.0097882561,0.0343035422,0.0110140489,-0.0033239902,-0.0598233156,-0.0659104213,0.0052382154,0.0428615659,-0.0400751717,-0.054752972,-0.0045798775,-0.0357092768,0.0277323276,-0.0231899694,-0.0392217487,0.0302994493,0.0346993953,0.0176025312,-0.0029697528,0.0398968235,0.0745277405,-0.0198603533,-0.0883328393,0.0246953722,0.0191811211,-0.0147548513,0.0463562049,0.043271292,-0.0594774373,-0.0016019782,0.0602651648,-0.0089124767,-0.011190447,-0.070241943,0.0311676655,-0.0245946292,-0.0528800339,0.0259816404,-0.0227794927,0.0375612751,0.0451679565,-0.0086512631,-0.0319939256,0.0138609698,0.0251282565,-0.0207455494,0.0255326014,0.0123841474,0.0235523973,0.0357337929,0.0024436412,-0.0570184588,0.0336506143,0.0567515157,0.0234488938,-0.0441425368,-0.0089381421,0.0502526984,-0.0744428635,-0.0534121394,-0.048996754,-0.0584833026,0.0403257199,0.0164541956,-0.0388659574,-0.0821947381,0.0182858128,0.0505522713,-0.0163221993,-0.0145262154,-0.0363392979,-0.067722179,0.006789274,-0.0045311144,-0.0050402028,0.0321708582,-0.0395715907,-0.0634502769,0.0114308838,-0.0047596884,-0.0098565975,0.0163117554,0.040756017,0.0342401713,-0.0501358882,0.0493746623,0.0137315653,-0.0195260234,0.0230959915,0.0420498699,-0.0787311494,-0.0365385823,0.0282545257,-0.0198949799,0.0025539608,-0.0498494543,-0.0099488925,-0.0069386112,0.1379657388,0.057781402,-0.007950766,0.0190377403,-0.0057888604,0.0060265744,-0.0393688492,0.01384186,-0.0093610073,-0.0126189217,-0.0858379602,-0.056195911,0.0432748459,-0.0714332759,-0.0396506861,-0.0188621841,0.0667255372,0.0947642103,-0.0138972523,0.012442437,0.0436941199,-0.0092687868,-0.062649861,-0.005012569,-0.0380788036,-0.0091742305,-0.0083998786,0.0642034486,-0.0018070749,0.0416861027,0.0417305417,0.0495558493,-0.0077313362,0.0343582779,0.0013728662,0.057719484,-0.0278847944,0.0157278627,0.0531321354,0.0008428586,0.0595345944,0.0857657269,-0.0233096406,0.0214839429,-0.0502332635,-0.0335614048,-0.0435415171,-0.0318972878,0.0209017955,0.012239594,0.0002579061,-0.0317858532,0.0195731577,-0.0437761806,0.0217292309,-0.006981201,-0.0023489166,0.0239316449,0.0161200855,-0.0491235293,0.0302623007,0.0169164035,-0.0064266725,0.0235617124,0.0005423156,0.0403339304,-0.0289894175,-0.0412126407,-0.0164761767,-0.0919233561,-0.027600782,-0.0277800914,0.0035134081,0.0442423597,-0.0375633985,0.0258828886,-0.0132830571,-0.0594264716,-0.0299053006,-0.097336933,0.0150667792,0.0167702138,0.0156980716,-0.0186396651,-0.0272997208,0.028851185,-0.0193707738,0.0036685793,-0.0204771105,0.0792888403,0.0071009691,-0.0093684215,0.0123481276,-0.022961257,0.0381447561,0.0396054424,-0.003753351,-0.0007237719,0.0088990852,-0.0030660133,0.0232294854,-0.0120483143,0.0323547088,0.0449815057,0.0134524722,-0.0553365014,-0.0047869622,-0.0124051301,-0.0190567113,0.0137353819,0.0056136893,0.0267397538,0.0043351399,0.0385806635,0.0055397092,-0.0099712685,-0.0199273713,0.0629793778,0.0035371154,-0.0443257429,0.024787752,0.0348709598,-0.0190204252,-0.0615664162,-0.0184043963,0.0349637456,0.0079401238,-0.0189369619,0.0089727864,0.0010155782,0.0245881919,0.0208131298,0.0033843191,0.0912452787,0.0221363641,-0.0828320459,-0.0349044651,0.0099306153,0.0024635075,0.0094544319,-0.0266454555,0.0037631546,-0.000771582,0.0219425187,-0.0223670788,-0.0092312954,-0.0238910355,0.1071941704,-0.0228173751,0.0205803327,-0.013595921,-0.0289684143,-0.0043807332,-0.0240637101,0.0471114069,-0.1001814082,0.0076676188,-0.040128395,-0.0555860996,0.0188361313,0.0022508113,-0.0145442905,0.0158662163,0.0382118076,0.0289306175,-0.0015070456,-0.0252274424,-0.0164451115,0.0206676293,-0.0031685282,0.0289350487,0.063041158,0.0402667522,0.0162408594,0.0512463115,0.0530188568,0.0092496397,0.0039683916,-0.0261919908,-0.0304158498,-0.0560222454,0.0504874364,0.0151223857,-0.0040647006,0.0697075501,0.0483143032,-0.0583816282,-0.039974276,-0.0003741258,-0.0724000782,0.0285610706,-0.0075068041,-0.0024928951,-0.016625654,0.0088217668,-0.0390501805,-0.0238881949,-0.0627725571,0.0296794511,-0.0620248839,0.0170300193,0.015176761,0.0488980822,-0.0121556036,0.0423130952,0.0187182948,-0.0113397641,0.0446665585,0.0235597137,-0.046381522,-0.0452105179,-0.0620250031,0.0284908134,0.031828016,0.0031503078,0.0008403689,-0.013570942,-0.0277253203,-0.023212824,-0.0686472878,-0.0151208816,0.0422499925,-0.0316743106,0.0240844097,-0.0110546537,0.0045318785,0.0291246809,0.0556458607,-0.0421726443,0.0196709279,-0.0155879576,-0.0025920817,0.0050548604,-0.0530912802,-0.00649453,0.0097494861,-0.0101991501,0.0405818447,0.0946519449,0.0219569616,0.0221185386,0.0293262079,0.011335873,0.0342954732,-0.0513613597,0.0016078857,0.0128680691,-0.0055700545,0.014895414,-0.0464276783,0.019357441,0.0231387094,0.0004143068,-0.0293908622,0.0545751713,-0.0174130183,-0.0920692459,0.0360538997,0.002650542,-0.0752902851,-0.027751822,-0.0090046609,-0.0371118486,0.0482602976,0.0400804169,0.025093535,0.0806912705,0.0464279018,0.0405297652,-0.0248913057,-0.0028280222,-0.0180255417,-0.0258246008,-0.0121649122,0.0283272881,-0.0338082202,0.0111899804,-0.0137028247,-0.0212679617,0.0650080666,-0.0524147563,-0.0032718044,-0.0095508471,0.0346586816,-0.0056024422,-0.0503605753,0.0063328082,-0.0507750623,0.004727839,-0.0191080645,-0.0320286863,-0.0299134403,-0.0552984439,0.0146619668,-0.0223163199,0.0132580493,0.1000241414,0.0662356317,0.0421855599,-0.0423837677,0.0019071266,-0.0062204869,0.0154548083,-0.0093632881,-0.0036332828,0.0269573759,-0.0144392932,-0.0052712024,0.0058418242,-0.0141116558,-0.0234415829,-0.0404468365,-0.0001575887,-0.0489838459,-0.0574415363,0.0651818514,-0.0108554307,-0.0426906683,-0.0283580814,0.0621004142,0.0424358398,0.0339189842,0.0253641028,0.0551150739,-0.0430677533,-0.0891313329,-0.0446105562,0.0463940427,0.0227493532,-0.0607568175,-0.0264294576,-0.0184862819]}\n",
      "{\"id\":64547443,\"embedding\":[-0.0190044194,0.0131726246,-0.0104619237,0.008893989,0.0391846597,-0.0460619628,0.0200681314,0.0436566062,0.0262752697,0.0360515714,-0.0555491038,0.0116512841,0.0121389423,-0.0184250642,-0.0060132556,-0.0335205048,-0.0241515543,0.0084290076,0.0312522277,-0.0105600962,-0.1067496091,0.0165998209,0.0096116448,0.0491901152,0.0296731684,-0.0965353251,-0.0159826111,-0.0234575588,-0.0426973701,-0.0180647708,0.0269801617,0.069340542,-0.051931683,-0.0110949576,-0.0119046886,0.0371904261,-0.0137082115,0.1002749279,0.002197552,0.0521522872,0.002076532,0.006125195,0.0605823398,0.0431618504,-0.0003761692,-0.0080440296,-0.0596782379,-0.0041084387,-0.0480401702,-0.0328461677,-0.0000960076,-0.0337338708,0.0023024487,0.0455026962,-0.037283577,0.0079332599,-0.065841876,0.0363430455,-0.0162515435,0.0212269463,0.0140643148,0.0156689379,-0.0241799746,-0.0534916148,0.0008232665,0.0561503246,0.0402324349,-0.0422346815,-0.0442971177,-0.0095303347,0.0422367342,-0.022794323,0.0254397616,-0.0560660996,0.0905496776,0.0189584009,0.0321439877,0.0223567691,0.0518221892,-0.0060545146,-0.0093640722,-0.066286616,-0.0563348085,-0.0989325047,-0.0627458245,0.0451865643,-0.0019061497,0.0523565374,-0.0210126936,0.0004728083,-0.0179385282,-0.0661924407,-0.0069795139,0.0267946664,-0.0365242809,-0.0352080949,-0.0354306065,-0.0285451692,-0.0038946203,0.0025396813,0.015261448,-0.0439791195,0.0306830052,-0.0462414213,0.0060020084,-0.0093796849,0.0018248158,0.0422770344,-0.0215379857,-0.0848895684,-0.0223908797,0.0120268399,-0.0305058546,0.0450802408,-0.0280940831,-0.0122776674,-0.0043549952,-0.0219584052,0.0358892865,-0.0013906765,-0.0219141543,0.0184669644,0.0518962927,0.0618981495,0.0256213043,0.0171689633,0.0260225851,-0.0445038937,-0.005232574,-0.0414367393,0.035945233,-0.0247140285,0.0240849443,-0.012706968,0.0543167479,0.0386793427,0.0138243409,-0.0161719806,-0.0174570493,0.015081699,-0.034652099,-0.007680397,-0.04030421,-0.0309536885,0.0541081242,-0.0082275588,0.0362376273,-0.048384618,-0.0345054232,0.0320410281,0.0293425974,-0.0182132684,-0.0225355644,0.0007412274,0.0275235102,0.0404979214,0.052926749,0.0693232343,-0.0117961103,-0.0034630008,-0.0235446524,-0.063432537,-0.0131547935,-0.0327757299,0.0168389454,0.0438508317,-0.0035288306,0.0177955702,-0.0127556371,0.009174034,0.0304318331,-0.1313015968,-0.0014176704,-0.0815329701,0.0488718785,-0.0200591311,0.0342530757,-0.015027971,0.0142570641,-0.0182155725,-0.0761329159,-0.0438464843,0.0395221859,-0.0259155352,-0.086071752,-0.0192519296,0.0337182917,-0.0150313508,-0.0448440835,0.0129424017,-0.0393367931,0.0077393726,0.0184467882,-0.0932796821,-0.0328126028,-0.0040548826,0.0430401601,-0.0968800858,-0.0357343182,-0.005396524,0.0099017303,-0.0248787664,0.045525372,0.0220696107,0.0032767351,-0.0109853968,-0.0392126627,-0.017442314,-0.0719908923,0.0049858256,0.0030360043,0.065714851,0.0769541189,-0.0139662251,-0.0038968406,0.0288443416,-0.0494014807,-0.0427085161,-0.0178659856,0.0148800677,-0.0241260901,-0.0214219689,-0.0069158827,0.0671122968,-0.0141105996,0.0157585349,-0.0530825742,0.0077132136,0.0087610744,-0.0062199985,-0.0390918925,0.018754635,0.0743997768,-0.0298157502,0.0205908921,0.0407486074,0.0362425297,0.0007910376,-0.093178317,0.0297068786,-0.0237944163,0.0732666627,-0.0460739546,0.0356735885,-0.011856528,-0.0015279197,-0.0419348627,0.0478714705,-0.0252636503,0.0035538056,0.0420079269,-0.0297210701,-0.0689742267,-0.0041535045,-0.0044218968,-0.0120071787,0.0021328747,0.0077205845,-0.0442958474,0.0080419453,-0.0130815273,0.0171619356,0.0504156426,0.1412580609,-0.0198312216,-0.0383702181,-0.0289385915,-0.0039912541,0.044906728,-0.0161037687,-0.0040017725,-0.0056604361,0.0167069566,-0.0015340522,-0.0375244617,0.0559828058,0.0143812345,-0.0196179505,0.048602201,0.0797877386,0.0387446694,-0.0286938623,0.0416101627,0.05324471,0.0001464368,-0.0038438598,-0.0188386049,0.0418666936,-0.0765283257,-0.0052190339,0.0016390721,-0.0606553257,-0.0090357512,0.0413694568,-0.0229306612,0.0083599277,0.0769609138,-0.0219203644,-0.0982533917,-0.001041302,-0.0177432429,-0.0146263614,0.0327015668,-0.0321551077,-0.0214954372,0.0238769334,-0.0287858378,-0.0062849936,0.0358969681,-0.0415628701,-0.026839463,-0.0147173628,0.0253701527,0.001627397,-0.0020082658,0.0285808872,0.0218222812,-0.0129955737,-0.0656858981,0.0666345805,0.0030405715,0.0282724481,0.0233145114,0.013723474,-0.0095379734,-0.0439713597,0.0058212443,-0.040566992,0.0463187695,-0.0591303967,-0.0355359875,0.0315591805,-0.0217463206,0.0108922357,-0.0106884371,-0.0323815309,0.0305606835,0.0335568599,-0.0008880593,-0.0176134072,0.0095339948,0.001831649,-0.0818634033,-0.0114251589,-0.0304467119,-0.0150277037,-0.0130770234,-0.0492040776,-0.020603722,-0.0490771197,0.0097069889,0.0115191294,-0.0215166099,0.0109826652,0.0230522752,0.0344481505,-0.0099236052,-0.0241430476,0.0576692931,-0.0249897111,-0.0312952623,-0.0145827411,-0.0147525296,-0.0076153763,-0.0257211998,-0.0120109404,-0.0343057998,0.0038307505,0.0325905308,0.0213028342,-0.0498954915,-0.0052116783,-0.0287814699,0.0048911162,-0.01919505,0.0022265473,-0.0328897759,0.0246740449,-0.0279993806,-0.0156726725,0.0049838307,0.0209884699,-0.0136585394,-0.0006829284,-0.0012799955,0.0017335258,0.0672539249,0.0731647611,-0.0019631728,-0.0005291866,0.033451505,0.0586215705,0.0152150039,-0.0305017214,-0.0006198309,0.0343453996,-0.0315074287,-0.0140405465,-0.0153287603,-0.0044971788,-0.0209873151,-0.0124008209,-0.0531496219,-0.041715648,0.019410478,0.0021503617,0.0562555678,0.0583251081,0.0447889939,-0.0390050635,0.0228517074,-0.0579474233,0.0090574306,0.0123759396,0.0548890866,-0.0614892021,0.0118067795,0.0114459153,-0.0042800875,0.0397190526,0.0435418263,-0.0243321154,-0.0653337985,0.035019733,-0.0325797684,0.0264154077,-0.0916595012,-0.0173761901,-0.0198209938,0.020395657,-0.0228003543,0.0148348194,0.0236426052,-0.0311138816,0.0035357103,0.0116395308,0.039336998,0.0214143638,0.0237760525,-0.027130397,-0.0131077766,0.0278684478,-0.0306244697,0.0248408709,0.0004449712,-0.0107699344,-0.0254012495,-0.0331520997,-0.0021464839,-0.0296186171,0.0307893194,-0.002724661,0.007797657,0.1239148378,-0.0417545587,0.0171504356,-0.0087448265,-0.0377401449,0.0511664078,0.0548232682,-0.0054583023,-0.029553121,-0.0509094223,0.0427342094,-0.0262937211,-0.0013565494,0.0098985117,0.0429247282,-0.0799524933,0.0546257123,0.0045823478,-0.0165741295,-0.0252346843,-0.020248482,0.0423430502,0.0156679545,0.0016803818,0.1058436632,-0.0045217141,-0.0246834923,-0.050692156,-0.0237616766,-0.0595418885,-0.0099400776,0.0193686802,-0.0088048493,-0.0000448358,0.0073734992,0.0242549703,0.021349607,0.0094117234,-0.0395794436,0.031732101,-0.0860321522,0.0037433708,-0.0344999768,-0.0394339338,0.0254254453,0.0125982389,0.0267164093,0.0847311541,0.03387741,0.0265328623,-0.0253954753,-0.0269125216,-0.0109235523,0.0120469611,-0.0005220809,-0.0648549572,0.0339772068,0.0116468612,0.0104942145,-0.0254852418,0.0392904244,-0.0510193557,-0.0381372049,0.00130797,0.0652830228,-0.0188997891,-0.0043120403,-0.0195142645,0.0258260258,-0.0018672831,-0.0088899098,0.0582701825,0.0534966886,-0.0109943869,-0.0537772104,-0.0264759567,0.0138874557,0.0100539923,0.0037154567,-0.0066256686,0.0236707591,-0.0336952135,0.0240290798,0.0039429017,0.0463805012,0.0100232139,0.0904367119,0.014877799,-0.0195621513,0.0091764927,0.0254270509,0.0043205046,-0.0270673931,0.0006190393,-0.0021266956,-0.0141993212,0.0476769209,0.00290166,-0.0078299362,-0.0113643128,0.0236629732,0.0107180765,-0.0333775505,0.0035877344,0.0200512819,-0.0225836579,-0.0381740518,-0.0322429575,-0.0013503039,0.010372458,-0.0007964526,0.0189763177,-0.0318274349,0.0877375081,0.0070941746,0.0120071312,0.0377291925,-0.0273884591,-0.0280035604,-0.0215446372,0.0209837221,-0.0457772687,0.0254409146,-0.0229887925,-0.0151455421,0.0082374411,0.0589772239,0.0020388914,0.0313745178,0.0033808434,0.0604323819,-0.0283242259,0.0053202794,-0.0307041556,-0.0600452498,0.0222555622,0.0128204832,-0.0456979126,-0.036603149,0.0311811864,0.0404237285,-0.0776849538,-0.0543772206,-0.0125441384,0.0445904955,-0.0114324372,-0.0211365633,0.0001750882,-0.0179776605,0.0103109181,-0.0077262688,0.0511639602,0.0289171115,0.0196921974,0.028623322,0.00465179,0.0040128627,0.0583852008,0.0509221107,0.016260216,0.0206974018,-0.017270986,0.016909169,-0.0461338237,0.0187471323,0.0738662407,-0.0155898752,0.0697530136,0.0349713042,-0.0329479612,-0.0621194839,-0.0138603374,-0.0049206871,0.0556404553,0.0380791202,-0.021713743,-0.0268285237,0.0073573929,-0.0638480484,-0.0609688573,-0.0332930386,0.0162836835,-0.0196567047,-0.0237490218,0.0514137223,0.0447629914,0.0673192814,0.08502011,0.0163456909,-0.0067260149,-0.0234588478,0.0158718918,-0.0288832393,-0.0076953727,-0.0223631598,-0.0103959721,0.0296169166,-0.0077430815,-0.014528377,-0.0029310063,-0.0540577993,0.0641540959,0.0074440846,0.0407115519,0.002383865,-0.0354432426,0.0241808742,0.0184310116,0.0314266048,0.0323027484,0.0677679107,-0.0467831977,0.0943835005,-0.0408355594,0.008343677,0.0070312894,0.002469121,-0.0820349753,-0.0285835452,0.0092784353,-0.0343022533,-0.0036938535,0.0014001,0.0205547716,0.0922494009,0.0002061365,-0.016776124,-0.0431927815,-0.0163378492,0.0154983643,-0.018707009,-0.0047905534,-0.0185814705,0.0026287208,0.0105722165,-0.0075357552,-0.0113289282,-0.0212428197,-0.0170555171,-0.0387416594,-0.0161551852,-0.0311349165,-0.0522536337,-0.0171057582,0.0004913416,0.0130721871,-0.0137775708,-0.0232725795,0.0231356565,0.0271512587,0.0195845757,0.0144788418,-0.0606510453,-0.0794485956,-0.0178509317,-0.0442223586,-0.0006628389,-0.0162880439,-0.0159432162,0.0326791033,-0.0103420727,-0.0620571896,0.0413498357,-0.0592479073,0.0191369765,0.0326016061,0.0176576227,-0.0055950047,0.0206787661,0.0384868383,-0.048105035,0.0096854074,0.0173056554,-0.0046868352,-0.0355332457,-0.016592402,0.0020905677,0.0143815354,0.0145811085,-0.0077023366,0.0199368335,-0.0052712993,-0.012654867,0.0009270041,0.0362048075,0.0612411089,-0.0225922875,0.0151393311,0.0928129181,0.0199354365,-0.0289036836,-0.004148345,-0.0137216486,-0.0237058196,-0.0107547194,-0.009113702,-0.0387354493,-0.0394247361,-0.0185498483,-0.0436708741,0.0365614444,-0.0101122539,0.0201232601,-0.0072572231,-0.0039392053,-0.052762188,0.0045571956,-0.0297037084,0.0029254588,-0.0509013012,0.0177869163,0.0459478535,-0.0191083308,-0.0254904721,-0.0293180868]}\n"
     ]
    }
   ],
   "source": [
    "# save id and embedding as a json file\n",
    "jsonl_string = df[[\"id\", \"embedding\"]].to_json(orient=\"records\", lines=True)\n",
    "with open(\"questions.json\", \"w\") as f:\n",
    "    f.write(jsonl_string)\n",
    "\n",
    "# show the first few lines of the json file\n",
    "! head -n 3 questions.json"
   ]
  },
  {
   "cell_type": "markdown",
   "metadata": {
    "id": "-WTNJ3FAQl_W"
   },
   "source": [
    "Then, create a new Cloud Storage bucket and copy the file to it."
   ]
  },
  {
   "cell_type": "code",
   "execution_count": 13,
   "metadata": {
    "id": "CzwDWJfzAk3n",
    "tags": []
   },
   "outputs": [
    {
     "name": "stdout",
     "output_type": "stream",
     "text": [
      "Creating gs://qwiklabs-gcp-01-70f9bf7a75d0-embvs-tutorial-05211440/...\n",
      "Copying file://questions.json [Content-Type=application/json]...\n",
      "/ [1 files][  9.8 MiB/  9.8 MiB]                                                \n",
      "Operation completed over 1 objects/9.8 MiB.                                      \n"
     ]
    }
   ],
   "source": [
    "BUCKET_URI = f\"gs://{PROJECT_ID}-embvs-tutorial-{UID}\"\n",
    "! gsutil mb -l $LOCATION -p {PROJECT_ID} {BUCKET_URI}\n",
    "! gsutil cp questions.json {BUCKET_URI}"
   ]
  },
  {
   "cell_type": "markdown",
   "metadata": {
    "id": "xxdbjKw1XDxl"
   },
   "source": [
    "### Create an Index\n",
    "\n",
    "Now it's ready to load the embeddings to Vector Search. Its APIs are available under the [aiplatform](https://cloud.google.com/python/docs/reference/aiplatform/latest/google.cloud.aiplatform) package of the SDK."
   ]
  },
  {
   "cell_type": "code",
   "execution_count": 14,
   "metadata": {
    "id": "8unyr9KagAoI",
    "tags": []
   },
   "outputs": [],
   "source": [
    "# init the aiplatform package\n",
    "from google.cloud import aiplatform\n",
    "\n",
    "aiplatform.init(project=PROJECT_ID, location=LOCATION)"
   ]
  },
  {
   "cell_type": "markdown",
   "metadata": {
    "id": "xpMUXqWQ75uu"
   },
   "source": [
    "Create an [MatchingEngineIndex](https://cloud.google.com/python/docs/reference/aiplatform/latest/google.cloud.aiplatform.MatchingEngineIndex) with its `create_tree_ah_index` function (Matching Engine is the previous name of Vector Search)."
   ]
  },
  {
   "cell_type": "code",
   "execution_count": 15,
   "metadata": {
    "id": "kKDw5VXMkXb3",
    "tags": []
   },
   "outputs": [
    {
     "name": "stdout",
     "output_type": "stream",
     "text": [
      "Creating MatchingEngineIndex\n",
      "Create MatchingEngineIndex backing LRO: projects/728823475164/locations/us-central1/indexes/8985160643673849856/operations/6885775441068556288\n",
      "MatchingEngineIndex created. Resource name: projects/728823475164/locations/us-central1/indexes/8985160643673849856\n",
      "To use this MatchingEngineIndex in another session:\n",
      "index = aiplatform.MatchingEngineIndex('projects/728823475164/locations/us-central1/indexes/8985160643673849856')\n"
     ]
    }
   ],
   "source": [
    "# create index\n",
    "my_index = aiplatform.MatchingEngineIndex.create_tree_ah_index(\n",
    "    display_name=f\"embvs-tutorial-index-{UID}\",\n",
    "    contents_delta_uri=BUCKET_URI,\n",
    "    dimensions=768,\n",
    "    approximate_neighbors_count=20,\n",
    "    distance_measure_type=\"DOT_PRODUCT_DISTANCE\",\n",
    ")"
   ]
  },
  {
   "cell_type": "markdown",
   "metadata": {
    "id": "2rFam_w9U0dI"
   },
   "source": [
    "By calling the `create_tree_ah_index` function, it starts building an Index. This will take under a few minutes if the dataset is small, otherwise about 50 minutes or more depending on the size of the dataset. You can check status of the index creation on [the Vector Search Console > INDEXES tab](https://console.cloud.google.com/vertex-ai/matching-engine/indexes).\n",
    "\n",
    "![](https://storage.googleapis.com/github-repo/img/embeddings/vs-quickstart/creating-index.png)\n",
    "\n",
    "#### The parameters for creating index\n",
    "\n",
    "- `contents_delta_uri`: The URI of Cloud Storage directory where you stored the embedding JSON files\n",
    "- `dimensions`: Dimension size of each embedding. In this case, it is 768 as we are using the embeddings from the Text Embeddings API.\n",
    "- `approximate_neighbors_count`: how many similar items we want to retrieve in typical cases\n",
    "- `distance_measure_type`: what metrics to measure distance/similarity between embeddings. In this case it's `DOT_PRODUCT_DISTANCE`\n",
    "\n",
    "See [the document](https://cloud.google.com/vertex-ai/docs/vector-search/create-manage-index) for more details on creating Index and the parameters.\n",
    "\n",
    "#### Batch Update or Streaming Update?\n",
    "There are two types of index: Index for *Batch Update* (used in this tutorial) and Index for *Streaming Updates*. The Batch Update index can be updated with a batch process whereas the Streaming Update index can be updated in real-time. The latter one is more suited for use cases where you want to add or update each embeddings in the index more often, and crucial to serve with the latest embeddings, such as e-commerce product search.\n",
    "\n"
   ]
  },
  {
   "cell_type": "markdown",
   "metadata": {
    "id": "VLOAMF50XMI8"
   },
   "source": [
    "### Create Index Endpoint and deploy the Index\n",
    "\n",
    "To use the Index, you need to create an [Index Endpoint](https://cloud.google.com/vertex-ai/docs/vector-search/deploy-index-public). It works as a server instance accepting query requests for your Index."
   ]
  },
  {
   "cell_type": "code",
   "execution_count": 16,
   "metadata": {
    "id": "h6IzyufWCjU1",
    "tags": []
   },
   "outputs": [
    {
     "name": "stdout",
     "output_type": "stream",
     "text": [
      "Creating MatchingEngineIndexEndpoint\n",
      "Create MatchingEngineIndexEndpoint backing LRO: projects/728823475164/locations/us-central1/indexEndpoints/6078931509136326656/operations/432117175046635520\n",
      "MatchingEngineIndexEndpoint created. Resource name: projects/728823475164/locations/us-central1/indexEndpoints/6078931509136326656\n",
      "To use this MatchingEngineIndexEndpoint in another session:\n",
      "index_endpoint = aiplatform.MatchingEngineIndexEndpoint('projects/728823475164/locations/us-central1/indexEndpoints/6078931509136326656')\n"
     ]
    }
   ],
   "source": [
    "# create IndexEndpoint\n",
    "my_index_endpoint = aiplatform.MatchingEngineIndexEndpoint.create(\n",
    "    display_name=f\"embvs-tutorial-index-endpoint-{UID}\",\n",
    "    public_endpoint_enabled=True,\n",
    ")"
   ]
  },
  {
   "cell_type": "markdown",
   "metadata": {},
   "source": [
    "This tutorial utilizes a [Public Endpoint](https://cloud.google.com/vertex-ai/docs/vector-search/setup/setup#choose-endpoint) and does not support [Virtual Private Cloud (VPC)](https://cloud.google.com/vpc/docs/private-services-access). Unless you have a specific requirement for VPC, we recommend using a Public Endpoint. Despite the term \"public\" in its name, it does not imply open access to the public internet. Rather, it functions like other endpoints in Vertex AI services, which are secured by default through IAM. Without explicit IAM permissions, as we have previously established, no one can access the endpoint."
   ]
  },
  {
   "cell_type": "markdown",
   "metadata": {
    "id": "8n33iO1T5hFO"
   },
   "source": [
    "With the Index Endpoint, deploy the Index by specifying an unique deployed index ID."
   ]
  },
  {
   "cell_type": "code",
   "execution_count": 17,
   "metadata": {
    "id": "FcBHLifGwAWq",
    "tags": []
   },
   "outputs": [],
   "source": [
    "DEPLOYED_INDEX_ID = f\"embvs_tutorial_deployed_{UID}\""
   ]
  },
  {
   "cell_type": "code",
   "execution_count": 18,
   "metadata": {
    "id": "1jUoGhY5TPFP",
    "tags": []
   },
   "outputs": [
    {
     "name": "stdout",
     "output_type": "stream",
     "text": [
      "Deploying index MatchingEngineIndexEndpoint index_endpoint: projects/728823475164/locations/us-central1/indexEndpoints/6078931509136326656\n",
      "Deploy index MatchingEngineIndexEndpoint index_endpoint backing LRO: projects/728823475164/locations/us-central1/indexEndpoints/6078931509136326656/operations/2773988981279293440\n",
      "MatchingEngineIndexEndpoint index_endpoint Deployed index. Resource name: projects/728823475164/locations/us-central1/indexEndpoints/6078931509136326656\n"
     ]
    },
    {
     "data": {
      "text/plain": [
       "<google.cloud.aiplatform.matching_engine.matching_engine_index_endpoint.MatchingEngineIndexEndpoint object at 0x7f0313484280> \n",
       "resource name: projects/728823475164/locations/us-central1/indexEndpoints/6078931509136326656"
      ]
     },
     "execution_count": 18,
     "metadata": {},
     "output_type": "execute_result"
    }
   ],
   "source": [
    "# deploy the Index to the Index Endpoint\n",
    "my_index_endpoint.deploy_index(index=my_index, deployed_index_id=DEPLOYED_INDEX_ID)"
   ]
  },
  {
   "cell_type": "markdown",
   "metadata": {
    "id": "xu9ZmWcpXQ55"
   },
   "source": [
    "If it is the first time to deploy an Index to an Index Endpoint, it will take around 25 minutes to automatically build and initiate the backend for it. After the first deployment, it will finish in seconds. To see the status of the index deployment, open [the Vector Search Console > INDEX ENDPOINTS tab](https://console.cloud.google.com/vertex-ai/matching-engine/index-endpoints) and click the Index Endpoint.\n",
    "\n",
    "<img src=\"https://storage.googleapis.com/github-repo/img/embeddings/vs-quickstart/deploying-index.png\" width=\"70%\">"
   ]
  },
  {
   "cell_type": "markdown",
   "metadata": {
    "id": "oTi4PjjbXV-O"
   },
   "source": [
    "### Run Query\n",
    "\n",
    "Finally it's ready to use Vector Search. In the following code, it creates an embedding for a test question, and find similar question with the Vector Search."
   ]
  },
  {
   "cell_type": "code",
   "execution_count": null,
   "metadata": {
    "id": "FhNuRQqUWdfe",
    "tags": []
   },
   "outputs": [
    {
     "name": "stderr",
     "output_type": "stream",
     "text": [
      "  0%|          | 0/1 [00:00<?, ?it/s]"
     ]
    }
   ],
   "source": [
    "test_embeddings = get_embeddings_wrapper([\"How to read JSON with Python?\"])"
   ]
  },
  {
   "cell_type": "code",
   "execution_count": null,
   "metadata": {
    "id": "Q01DGMBPXAg-"
   },
   "outputs": [],
   "source": [
    "# Test query\n",
    "response = my_index_endpoint.find_neighbors(\n",
    "    deployed_index_id=DEPLOYED_INDEX_ID,\n",
    "    queries=test_embeddings,\n",
    "    num_neighbors=20,\n",
    ")\n",
    "\n",
    "# show the result\n",
    "import numpy as np\n",
    "\n",
    "for idx, neighbor in enumerate(response[0]):\n",
    "    id = np.int64(neighbor.id)\n",
    "    similar = df.query(\"id == @id\", engine=\"python\")\n",
    "    print(f\"{neighbor.distance:.4f} {similar.title.values[0]}\")"
   ]
  },
  {
   "cell_type": "markdown",
   "metadata": {
    "id": "tPDOL9caoYZ9"
   },
   "source": [
    "The `find_neighbors` function only takes milliseconds to fetch the similar items even when you have billions of items on the Index, thanks to the ScaNN algorithm. Vector Search also supports [autoscaling](https://cloud.google.com/vertex-ai/docs/vector-search/deploy-index-public#autoscaling) which can automatically resize the number of nodes based on the demands of your workloads."
   ]
  },
  {
   "cell_type": "markdown",
   "metadata": {
    "id": "DDt4D6FDyc66"
   },
   "source": [
    "# IMPORTANT: Cleaning Up\n",
    "\n",
    "In case you are using your own Cloud project, not a temporary project on Qwiklab, please make sure to delete all the Indexes, Index Endpoints and Cloud Storage buckets after finishing this tutorial. Otherwise the remaining objects would **incur unexpected costs**.\n",
    "\n",
    "If you used Workbench, you may also need to delete the Notebooks from [the console](https://console.cloud.google.com/vertex-ai/workbench)."
   ]
  },
  {
   "cell_type": "code",
   "execution_count": null,
   "metadata": {
    "id": "MEsKVzguyxNx"
   },
   "outputs": [],
   "source": [
    "# wait for a confirmation\n",
    "input(\"Press Enter to delete Index Endpoint, Index and Cloud Storage bucket:\")\n",
    "\n",
    "# delete Index Endpoint\n",
    "my_index_endpoint.undeploy_all()\n",
    "my_index_endpoint.delete(force=True)\n",
    "\n",
    "# delete Index\n",
    "my_index.delete()\n",
    "\n",
    "# delete Cloud Storage bucket\n",
    "! gsutil rm -r {BUCKET_URI}"
   ]
  },
  {
   "cell_type": "markdown",
   "metadata": {
    "id": "b8k26QOF3Ys7"
   },
   "source": [
    "# Summary\n",
    "\n",
    "## Grounding LLM outputs with Vertex AI Vector Search\n",
    "\n",
    "As we have seen, by combining the Embeddings API and Vector Search, you can use the embeddings to \"ground\" LLM outputs to real business data with low latency.\n",
    "\n",
    "For example, if an user asks a question, Embeddings API can convert it to an embedding, and issue an query on Vector Search to find similar embeddings in its index. Those embeddings represent the actual business data in the databases. As we are just retrieving the business data and not generating any artificial texts, there is no risk of having hallucinations in the result.\n",
    "\n",
    "![](https://storage.googleapis.com/gweb-cloudblog-publish/original_images/10._grounding.png)\n",
    "\n",
    "### The difference between the questions and answers\n",
    "\n",
    "In this tutorial, we have used the Stack Overflow dataset. There is a reason why we had to use it; As the dataset has many pairs of **questions and answers**, so you can just find quesions similar to your question to find answers to it.\n",
    "\n",
    "In many business use cases, the semantics (meaning) of questions and answers are different. Also, there could be cases where you would want to add variety of recommended or personalized items to the results, like product search on e-commerce sites.\n",
    "\n",
    "In these cases, the simple semantics search don't work well. It's more like a recommendation system problem where you may want to train a model (e.g. Two-Tower model) to learn the relationship between the question embedding space and answer embedding space. Also, many production systems adds reranking phase after the semantic search to achieve higher search quality. Please see [Scaling deep retrieval with TensorFlow Recommenders and Vertex AI Matching Engine](https://cloud.google.com/blog/products/ai-machine-learning/scaling-deep-retrieval-tensorflow-two-towers-architecture) to learn more.\n",
    "\n",
    "### Hybrid of semantic + keyword search\n",
    "\n",
    "Another typical challenge you will face in production system is to support keyword search combined with the semantic search. For example, for e-commerce product search, you may want to let users find product by entering its product name or model number. As LLM doesn't memorize those product names or model numbers, semantic search can't handle those \"usual\" search functionalities.\n",
    "\n",
    "[Vertex AI Search](https://cloud.google.com/blog/products/ai-machine-learning/vertex-ai-search-and-conversation-is-now-generally-available) is another product you may consider for those requirements. While Vector Search provides a simple semantic search capability only, Search provides a integrated search solution that combines semantic search, keyword search, reranking and filtering, available as an out-of-the-box tool.\n",
    "\n",
    "### What about Retrieval Augmented Generation (RAG)?\n",
    "\n",
    "In this tutorial, we have looked at the simple combination of LLM embeddings and vector search. From this starting point, you may also extend the design to [Retrieval Augmented Generation (RAG)](https://www.google.com/search?q=Retrieval+Augmented+Generation+(RAG)&oq=Retrieval+Augmented+Generation+(RAG)).\n",
    "\n",
    "RAG is a popular architecture pattern of implementing grounding with LLM with text chat UI. The idea is to have the LLM text chat UI as a frontend for the document retrieval with vector search and summarization of the result.\n",
    "\n",
    "![](https://storage.googleapis.com/gweb-cloudblog-publish/images/Figure-7-Ask_Your_Documents_Flow.max-529x434.png)\n",
    "\n",
    "There are some pros and cons between the two solutions.\n",
    "\n",
    "| | Emb + vector search | RAG |\n",
    "|---|---|---|\n",
    "| Design | simple | complex |\n",
    "| UI | Text search UI | Text chat UI |\n",
    "| Summarization of result | No | Yes |\n",
    "| Multi-turn (Context aware) | No | Yes |\n",
    "| Latency | millisecs | seconds |\n",
    "| Cost | lower | higher |\n",
    "| Hallucinations | No risk | Some risk |\n",
    "\n",
    "The Embedding + vector search pattern we have looked at with this tutorial provides simple, fast and low cost semantic search functionality with the LLM intelligence. RAG adds context-aware text chat experience and result summarization to it. While RAG provides the more \"Gen AI-ish\" experience, it also adds a risk of hallucination and higher cost and time for the text generation.\n",
    "\n",
    "To learn more about how to build a RAG solution, you may look at [Building Generative AI applications made easy with Vertex AI PaLM API and LangChain](https://cloud.google.com/blog/products/ai-machine-learning/generative-ai-applications-with-vertex-ai-palm-2-models-and-langchain).\n",
    "\n",
    "## Resources\n",
    "\n",
    "To learn more, please check out the following resources:\n",
    "\n",
    "### Documentations\n",
    "\n",
    "[Vertex AI Embeddings for Text API documentation\n",
    "](https://cloud.google.com/vertex-ai/docs/generative-ai/embeddings/get-text-embeddings)\n",
    "\n",
    "[Vector Search documentation](https://cloud.google.com/vertex-ai/docs/matching-engine/overview)\n",
    "\n",
    "### Vector Search blog posts\n",
    "\n",
    "[Vertex Matching Engine: Blazing fast and massively scalable nearest neighbor search](https://cloud.google.com/blog/products/ai-machine-learning/vertex-matching-engine-blazing-fast-and-massively-scalable-nearest-neighbor-search)\n",
    "\n",
    "[Find anything blazingly fast with Google's vector search technology](https://cloud.google.com/blog/topics/developers-practitioners/find-anything-blazingly-fast-googles-vector-search-technology)\n",
    "\n",
    "[Enabling real-time AI with Streaming Ingestion in Vertex AI](https://cloud.google.com/blog/products/ai-machine-learning/real-time-ai-with-google-cloud-vertex-ai)\n",
    "\n",
    "[Mercari leverages Google's vector search technology to create a new marketplace](https://cloud.google.com/blog/topics/developers-practitioners/mercari-leverages-googles-vector-search-technology-create-new-marketplace)\n",
    "\n",
    "[Recommending news articles using Vertex AI Matching Engine](https://cloud.google.com/blog/products/ai-machine-learning/recommending-articles-using-vertex-ai-matching-engine)\n",
    "\n",
    "[What is Multimodal Search: \"LLMs with vision\" change businesses](https://cloud.google.com/blog/products/ai-machine-learning/multimodal-generative-ai-search)"
   ]
  },
  {
   "cell_type": "markdown",
   "metadata": {
    "id": "BE1tELsH-u8N"
   },
   "source": [
    "# Utilities\n",
    "\n",
    "Sometimes it takes tens of minutes to create or deploy Indexes and you would lose connection with the Colab runtime. In that case, instead of creating or deploying new Index again, you can check [the Vector Search Console](https://console.cloud.google.com/vertex-ai/matching-engine/index-endpoints) and get the existing ones to continue."
   ]
  },
  {
   "cell_type": "markdown",
   "metadata": {
    "id": "wF_pkdpJ-yaq"
   },
   "source": [
    "## Get an existing Index\n",
    "\n",
    "To get an Index object that already exists, replace the following `[your-index-id]` with the index ID and run the cell. You can check the ID on [the Vector Search Console > INDEXES tab](https://console.cloud.google.com/vertex-ai/matching-engine/indexes)."
   ]
  },
  {
   "cell_type": "code",
   "execution_count": null,
   "metadata": {
    "id": "mEBkZZt_-0jG"
   },
   "outputs": [],
   "source": [
    "my_index_id = \"[your-index-id]\"  # @param {type:\"string\"}\n",
    "my_index = aiplatform.MatchingEngineIndex(my_index_id)"
   ]
  },
  {
   "cell_type": "markdown",
   "metadata": {
    "id": "_vlgzkyw-3CI"
   },
   "source": [
    "## Get an existing Index Endpoint\n",
    "\n",
    "To get an Index Endpoint object that already exists, replace the following `[your-index-endpoint-id]` with the Index Endpoint ID and run the cell. You can check the ID on [the Vector Search Console > INDEX ENDPOINTS tab](https://console.cloud.google.com/vertex-ai/matching-engine/index-endpoints)."
   ]
  },
  {
   "cell_type": "code",
   "execution_count": null,
   "metadata": {
    "id": "E0OFnirF-6Rk"
   },
   "outputs": [],
   "source": [
    "my_index_endpoint_id = \"[your-index-endpoint-id]\"  # @param {type:\"string\"}\n",
    "my_index_endpoint = aiplatform.MatchingEngineIndexEndpoint(my_index_endpoint_id)"
   ]
  }
 ],
 "metadata": {
  "colab": {
   "provenance": []
  },
  "environment": {
   "kernel": "python3",
   "name": "tf2-cpu.2-11.m121",
   "type": "gcloud",
   "uri": "us-docker.pkg.dev/deeplearning-platform-release/gcr.io/tf2-cpu.2-11:m121"
  },
  "kernelspec": {
   "display_name": "Python 3 (Local)",
   "language": "python",
   "name": "python3"
  },
  "language_info": {
   "codemirror_mode": {
    "name": "ipython",
    "version": 3
   },
   "file_extension": ".py",
   "mimetype": "text/x-python",
   "name": "python",
   "nbconvert_exporter": "python",
   "pygments_lexer": "ipython3",
   "version": "3.10.14"
  }
 },
 "nbformat": 4,
 "nbformat_minor": 4
}
